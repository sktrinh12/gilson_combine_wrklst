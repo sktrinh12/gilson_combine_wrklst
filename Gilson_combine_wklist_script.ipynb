{
 "cells": [
  {
   "cell_type": "code",
   "execution_count": 1,
   "metadata": {},
   "outputs": [],
   "source": [
    "import pandas as pd\n",
    "import re\n",
    "import sqlite3\n",
    "import datetime\n",
    "import os\n",
    "from openpyxl import Workbook, load_workbook"
   ]
  },
  {
   "cell_type": "code",
   "execution_count": 13,
   "metadata": {},
   "outputs": [
    {
     "data": {
      "text/plain": [
       "Index(['SkipPause[True,18,0]', 'MethodName[True,239,1]',\n",
       "       'SampleName[True,108,2]', 'SampleAmount[False,78,3]',\n",
       "       'SampleDescription[False,120,4]', 'SampleId[False,90,5]',\n",
       "       'InjectionYesNo[False,72,6]', 'PeakInformation[False,104,7]',\n",
       "       'SampleInjection[False,138,8]', 'NOTES_STRING[False,68,9]',\n",
       "       '#Sample Well[True,109,10]', '#Plate_Sample[True,115,13]'],\n",
       "      dtype='object')"
      ]
     },
     "execution_count": 13,
     "metadata": {},
     "output_type": "execute_result"
    }
   ],
   "source": [
    "content.columns"
   ]
  },
  {
   "cell_type": "code",
   "execution_count": 54,
   "metadata": {},
   "outputs": [],
   "source": [
    "\n",
    "for fi in os.listdir(fp):\n",
    "    if re.search('^\\d+', fi):\n",
    "        content = pd.read_csv(f'{fp}{fi}', sep='\\t') \n",
    "        fi = fi.split('_')[2].split('.')[0]\n",
    "        with open(f\"{fp}gilson_set_file_{fi}.txt\", 'w') as f:\n",
    "            f.write('Sample_Name\\tTube_Barcode\\tBrooks_Barcode\\n')\n",
    "\n",
    "            for i,r in content.iterrows():\n",
    "                 if i > 0 and re.search('^[L|M|C]', r['SampleName[True,108,2]']):\n",
    "                        #print(r['SampleName[True,108,2]'],'\\t',r['NOTES_STRING[False,68,9]'],'\\t', r['SampleDescription[False,120,4]'])\n",
    "                        f.write(f\"{r['SampleName[True,108,2]']}\\t{r['SampleDescription[False,120,4]']}\\t{r['NOTES_STRING[False,68,9]']}\\n\")"
   ]
  },
  {
   "cell_type": "code",
   "execution_count": 2,
   "metadata": {},
   "outputs": [],
   "source": [
    "fp = '/users/trinhsk/documents/pythonscripts/Gilson Worklist Generator/'\n",
    "\n",
    "conn = sqlite3.connect(f'{fp}gilsontsl.db')\n",
    "c = conn.cursor()"
   ]
  },
  {
   "cell_type": "code",
   "execution_count": 67,
   "metadata": {},
   "outputs": [],
   "source": [
    "conn.close()"
   ]
  },
  {
   "cell_type": "code",
   "execution_count": 6,
   "metadata": {},
   "outputs": [
    {
     "data": {
      "text/plain": [
       "<sqlite3.Cursor at 0x105e8f730>"
      ]
     },
     "execution_count": 6,
     "metadata": {},
     "output_type": "execute_result"
    }
   ],
   "source": [
    "sqlite_create_table_query = '''CREATE TABLE GILSON_SET_TABLE \n",
    "                            (RUN_DATE TIMESTAMP,\n",
    "                            ID TEXT NOT NULL, \n",
    "                            SAMPLE_NUMBER INTEGER NOT NULL,\n",
    "                            SAMPLE_NAME TEXT NOT NULL, \n",
    "                            TUBE_BARCODE TEXT PRIMARY KEY, \n",
    "                            BROOKS_BARCODE TEXT NOT NULL);'''\n",
    "\n",
    "sqlite_delete_table_query = '''DROP TABLE GILSON_SET_TABLE;'''\n",
    "\n",
    "#c.execute(sqlite_delete_table_query)\n",
    "c.execute(sqlite_create_table_query)"
   ]
  },
  {
   "cell_type": "code",
   "execution_count": 11,
   "metadata": {},
   "outputs": [],
   "source": [
    "for fi in os.listdir(fp):\n",
    "    if re.search('^\\d+', fi):\n",
    "        split_fi_name = fi.split('_')\n",
    "        suffix = split_fi_name[2].split('.')[0]\n",
    "        input_file = f\"{fp}gilson_set_file_{suffix}.txt\"\n",
    "        fi_content = pd.read_csv(input_file, sep='\\t')\n",
    "        num_rows = len(fi_content.index)\n",
    "        for i,r in fi_content.iterrows():\n",
    "            numbr = i % num_rows\n",
    "            ls_tp_content = [(datetime.datetime.now(), split_fi_name[0], numbr, r['Sample_Name'], r['Tube_Barcode'], str(int(r['Brooks_Barcode'])))]\n",
    "            c.executemany(\"INSERT INTO GILSON_SET_TABLE VALUES (?,?,?,?,?,?)\", ls_tp_content)\n",
    "            \n",
    "        conn.commit()"
   ]
  },
  {
   "cell_type": "code",
   "execution_count": 50,
   "metadata": {},
   "outputs": [
    {
     "name": "stdout",
     "output_type": "stream",
     "text": [
      "['Sheet1', 'Set1', 'Set2']\n"
     ]
    }
   ],
   "source": [
    "wb_load = load_workbook(f\"{fp}excel_gilson_script_test.xlsx\")\n",
    "print(wb_load.sheetnames)"
   ]
  },
  {
   "cell_type": "code",
   "execution_count": 51,
   "metadata": {},
   "outputs": [],
   "source": [
    "wset1 = wb_load['Set1']\n",
    "wset2 = wb_load['Set2']"
   ]
  },
  {
   "cell_type": "code",
   "execution_count": 52,
   "metadata": {},
   "outputs": [
    {
     "name": "stdout",
     "output_type": "stream",
     "text": [
      "('1520030001',)\n",
      "('1520030002',)\n",
      "('1520030003',)\n"
     ]
    }
   ],
   "source": [
    "ids = c.execute('''SELECT DISTINCT ID FROM GILSON_SET_TABLE''').fetchall()\n",
    "for rw in ids:\n",
    "    print(rw)"
   ]
  },
  {
   "cell_type": "code",
   "execution_count": 53,
   "metadata": {},
   "outputs": [],
   "source": [
    "project_num = '1520030001'\n",
    "\n",
    "for idt in ids:\n",
    "    if project_num in idt:\n",
    "        row_data = c.execute(f'''SELECT * FROM GILSON_SET_TABLE WHERE ID = {idt[0]}''').fetchall()\n",
    "\n",
    "#for i,row in enumerate(row_data):\n",
    "#    print(row)"
   ]
  },
  {
   "cell_type": "code",
   "execution_count": 54,
   "metadata": {},
   "outputs": [],
   "source": [
    "header = ['RUN_DATE', 'ID', 'SAMPLE_NUMBER', 'SAMPLE_NAME', 'TUBE_BARCODE', 'BROOKS_BARCODE']\n",
    "for i in range(1,7):\n",
    "    #print(chr(64+i))\n",
    "    wset1[f\"{chr(64+i)}1\"] = header[i-1]"
   ]
  },
  {
   "cell_type": "code",
   "execution_count": 55,
   "metadata": {},
   "outputs": [],
   "source": [
    "rcnt=0\n",
    "ccnt=0\n",
    "for row in range(2, len(row_data)+1):\n",
    "    for col in range(1,7):\n",
    "        _ = wset1.cell(column=col, row=row, value=f\"{row_data[rcnt][ccnt%6]}\")\n",
    "        #print(row_data[rcnt][ccnt%6])\n",
    "        #print(f\"{ccnt%6} {rcnt}\")\n",
    "        ccnt+=1\n",
    "    rcnt+=1"
   ]
  },
  {
   "cell_type": "code",
   "execution_count": 19,
   "metadata": {},
   "outputs": [],
   "source": [
    "#for i in range(3,len(row_data)):\n",
    "#    wset1.append(row_data[i])\n",
    "    #print(row_data[i])"
   ]
  },
  {
   "cell_type": "code",
   "execution_count": 67,
   "metadata": {},
   "outputs": [],
   "source": [
    "#wset1['A10'].value"
   ]
  },
  {
   "cell_type": "code",
   "execution_count": 64,
   "metadata": {},
   "outputs": [],
   "source": [
    "def update_set_data(project_id, set_num, excel_file = 'excel_gilson_script_test'):\n",
    "    wb_load = load_workbook(f\"{fp}{excel_file}.xlsx\")\n",
    "    wset = wb_load[f\"Set{set_num}\"]\n",
    "    row_data = c.execute(f'''SELECT * FROM GILSON_SET_TABLE WHERE ID = {project_id}''').fetchall()\n",
    "    brooks_bc = c.execute(f'''SELECT DISTINCT BROOKS_BARCODE FROM GILSON_SET_TABLE WHERE ID = {project_id}''').fetchone()\n",
    "    #clear content of sheet\n",
    "    for row in wset['A1:H24']:\n",
    "        for cell in row:\n",
    "            cell.value = None\n",
    "    #add header to sheet\n",
    "    for i in range(1,7):\n",
    "        wset[f\"{chr(64+i)}1\"] = header[i-1]\n",
    "    #populate the cells\n",
    "    rcnt=0\n",
    "    ccnt=0\n",
    "    for row in range(2, len(row_data)+1):\n",
    "        for col in range(1,7):\n",
    "            _ = wset.cell(column=col, row=row, value=f\"{row_data[rcnt][ccnt%6]}\")\n",
    "            ccnt+=1\n",
    "        rcnt+=1\n",
    "    #overwrite the excel file\n",
    "    wb_load.save(f'{fp}{excel_file}.xlsx')\n",
    "    print('completed update')\n",
    "    \n",
    "def save_tsl_file(pid_1, pid_2, brooks_bc1, brooks_bc2):\n",
    "    #save new tab-delimited file to directory\n",
    "    parent_dir = '/Volumes/npsg/tecan/SourceData/SecondStage/Completed Projects Injections/'\n",
    "    pid = pid_1[:8]\n",
    "    pid_suffix1 = pid_1[8:]\n",
    "    pid_suffix2 = pid_2[8:]\n",
    "    for fi in os.listdir(parent_dir):\n",
    "        if fi.startswith(pid) and os.path.isdir(os.path.join(parent_dir,fi)):\n",
    "            file_path = f'{parent_dir}/3_SecondStage Sample List/{pid}_{pid_suffix1}_{pid_suffix2}_{brooks_bc1}_{brooks_bc2}.tsl'\n",
    "    with open(file_name, 'w') as fw:\n",
    "        wf.write('\\n')"
   ]
  },
  {
   "cell_type": "code",
   "execution_count": 65,
   "metadata": {},
   "outputs": [
    {
     "name": "stdout",
     "output_type": "stream",
     "text": [
      "134\n"
     ]
    }
   ],
   "source": [
    "update_set_data('1520030002',1)"
   ]
  }
 ],
 "metadata": {
  "kernelspec": {
   "display_name": "Python 3",
   "language": "python",
   "name": "python3"
  },
  "language_info": {
   "codemirror_mode": {
    "name": "ipython",
    "version": 3
   },
   "file_extension": ".py",
   "mimetype": "text/x-python",
   "name": "python",
   "nbconvert_exporter": "python",
   "pygments_lexer": "ipython3",
   "version": "3.7.3"
  }
 },
 "nbformat": 4,
 "nbformat_minor": 2
}
