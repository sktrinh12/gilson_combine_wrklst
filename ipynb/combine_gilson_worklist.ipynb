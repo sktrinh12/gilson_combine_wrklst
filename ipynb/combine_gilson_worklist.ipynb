{
 "cells": [
  {
   "cell_type": "code",
   "execution_count": 5,
   "metadata": {},
   "outputs": [],
   "source": [
    "import os\n",
    "import re\n",
    "import datetime\n",
    "import pandas as pd"
   ]
  },
  {
   "cell_type": "code",
   "execution_count": 7,
   "metadata": {},
   "outputs": [
    {
     "name": "stdin",
     "output_type": "stream",
     "text": [
      " 1520060001\n",
      " 1520060002\n"
     ]
    }
   ],
   "source": [
    "input_file1 = input()\n",
    "input_file2 = input()\n",
    "list_of_racks = sorted([input_file1] + [input_file2])"
   ]
  },
  {
   "cell_type": "code",
   "execution_count": 3,
   "metadata": {},
   "outputs": [],
   "source": [
    "list_of_racks = ['15191100030', '15191100040']"
   ]
  },
  {
   "cell_type": "code",
   "execution_count": 14,
   "metadata": {},
   "outputs": [],
   "source": [
    "#file_path = '/Users/trinhsk/Documents/pythonScripts/'\n",
    "shared_drive = '/Volumes/npsg/tecan/SourceData/SecondStage/'\n",
    "parent_dir = 'Completed Projects Injections/15200300_AZ Samples/2_Solublization List'\n",
    "list_filenames = []\n",
    "def readFiles(rack_code,parent_dir=\"\"):\n",
    "    file_name = ''\n",
    "    for fi in os.listdir(shared_drive+parent_dir):\n",
    "        if fi.endswith('.tsl') and 'secStg' in fi:\n",
    "            if rack_code in fi:\n",
    "                file_mtime = os.stat(os.path.join(shared_drive+parent_dir,fi)).st_mtime\n",
    "                if  datetime.datetime.fromtimestamp(file_mtime) < datetime.datetime.today():\n",
    "                    list_filenames.append(fi)\n",
    "                    file_name = os.path.join(shared_drive+parent_dir,fi)\n",
    "                    with open(file_name, 'r') as f:\n",
    "                        file_content = f.readlines()\n",
    "    return file_content"
   ]
  },
  {
   "cell_type": "code",
   "execution_count": 15,
   "metadata": {},
   "outputs": [],
   "source": [
    "file1 = readFiles('1520060001')"
   ]
  },
  {
   "cell_type": "code",
   "execution_count": 16,
   "metadata": {},
   "outputs": [],
   "source": [
    "file2 = readFiles('1520060002')"
   ]
  },
  {
   "cell_type": "code",
   "execution_count": 17,
   "metadata": {},
   "outputs": [
    {
     "data": {
      "text/plain": [
       "24"
      ]
     },
     "execution_count": 17,
     "metadata": {},
     "output_type": "execute_result"
    }
   ],
   "source": [
    "len(file1)"
   ]
  },
  {
   "cell_type": "code",
   "execution_count": 18,
   "metadata": {},
   "outputs": [
    {
     "data": {
      "text/plain": [
       "36"
      ]
     },
     "execution_count": 18,
     "metadata": {},
     "output_type": "execute_result"
    }
   ],
   "source": [
    "len(file2)"
   ]
  },
  {
   "cell_type": "code",
   "execution_count": 19,
   "metadata": {},
   "outputs": [
    {
     "data": {
      "text/plain": [
       "['SkipPause[True,18,0]\\tMethodName[True,239,1]\\tSampleName[True,108,2]\\tSampleAmount[False,78,3]\\tSampleDescription[False,120,4]\\tSampleId[False,90,5]\\tInjectionYesNo[False,72,6]\\tPeakInformation[False,104,7]\\tSampleInjection[False,138,8]\\tNOTES_STRING[False,68,9]\\t#Sample Well[True,109,10]\\t#Plate_Sample[True,115,13]\\n',\n",
       " '\\n',\n",
       " 'RUN\\t4 ML STARTUP\\tSample\\t0\\t\\t\\tYES\\tUNKNOWN\\t...\\t\\t0\\t\\n',\n",
       " 'RUN\\t4ML_10mm_2ND STAGE_FLUSH\\tFlush\\t0\\t\\t\\tYES\\tUNKNOWN\\t...\\t\\t0\\t\\n',\n",
       " 'RUN\\t4ML_10mm_2ND STAGE_STD\\t6-Cmpd Std\\t0\\t\\t\\tYES\\tUNKNOWN\\t...\\t\\t0\\t\\n',\n",
       " 'RUN\\t4ML_10mm_2ND STAGE\\tL129525_6\\t0\\tFB04587339\\t\\tYES\\tUNKNOWN\\t...\\t15200600010 / 11\\t1\\tP01S01\\n',\n",
       " 'RUN\\t4ML_10mm_2ND STAGE\\tL48809_5\\t0\\tFB04251130\\t\\tYES\\tUNKNOWN\\t...\\t15200600010 / 12\\t2\\tP01S02\\n',\n",
       " 'RUN\\t4ML_10mm_2ND STAGE\\tL129575_6\\t0\\tFB04716251\\t\\tYES\\tUNKNOWN\\t...\\t15200600010 / 13\\t3\\tP01S03\\n',\n",
       " 'RUN\\t4ML_10mm_2ND STAGE\\tL48781_7\\t0\\tFB04250855\\t\\tYES\\tUNKNOWN\\t...\\t15200600010 / 14\\t4\\tP01S04\\n',\n",
       " 'RUN\\t4ML_10mm_2ND STAGE\\tL99277_7\\t0\\tFB04242223\\t\\tYES\\tUNKNOWN\\t...\\t15200600010 / 21\\t5\\tP02S01\\n',\n",
       " 'RUN\\t4ML_10mm_2ND STAGE\\tL77355_6\\t0\\tFB04363141\\t\\tYES\\tUNKNOWN\\t...\\t15200600010 / 22\\t6\\tP02S02\\n',\n",
       " 'RUN\\t4ML_10mm_2ND STAGE\\tL22855_6\\t0\\tFB04575204\\t\\tYES\\tUNKNOWN\\t...\\t15200600010 / 23\\t7\\tP02S03\\n',\n",
       " 'RUN\\t4ML_10mm_2ND STAGE\\tL77349_5\\t0\\tFB04362984\\t\\tYES\\tUNKNOWN\\t...\\t15200600010 / 24\\t8\\tP02S04\\n',\n",
       " 'RUN\\t4ML_10mm_2ND STAGE_FLUSH\\tFlush\\t0\\t\\t\\tYES\\tUNKNOWN\\t...\\t\\t0\\t\\n',\n",
       " 'RUN\\t4ML_10mm_2ND STAGE_STD\\t6-Cmpd Std\\t0\\t\\t\\tYES\\tUNKNOWN\\t...\\t\\t0\\t\\n',\n",
       " 'RUN\\t4ML_10mm_2ND STAGE\\tL125181_7\\t0\\tFB04613570\\t\\tYES\\tUNKNOWN\\t...\\t15200600010 / 31\\t9\\tP03S01\\n',\n",
       " 'RUN\\t4ML_10mm_2ND STAGE\\tL92791_6\\t0\\tFB03117035\\t\\tYES\\tUNKNOWN\\t...\\t15200600010 / 32\\t10\\tP03S02\\n',\n",
       " 'RUN\\t4ML_10mm_2ND STAGE\\tL91999_6\\t0\\tFB04586497\\t\\tYES\\tUNKNOWN\\t...\\t15200600010 / 33\\t11\\tP03S03\\n',\n",
       " 'RUN\\t4ML_10mm_2ND STAGE\\tL96911_7\\t0\\tFB04190034\\t\\tYES\\tUNKNOWN\\t...\\t15200600010 / 34\\t12\\tP03S04\\n',\n",
       " 'RUN\\t4ML_10mm_2ND STAGE\\tL37265_6\\t0\\tFB04078293\\t\\tYES\\tUNKNOWN\\t...\\t15200600010 / 41\\t13\\tP04S01\\n',\n",
       " 'RUN\\t4ML_10mm_2ND STAGE\\tL106115_6\\t0\\tFB04595524\\t\\tYES\\tUNKNOWN\\t...\\t15200600010 / 42\\t14\\tP04S02\\n',\n",
       " 'RUN\\t4ML_10mm_2ND STAGE_FLUSH\\tSample\\t0\\tFlush\\t\\tYES\\tUNKNOWN\\t...\\t\\t0\\n',\n",
       " 'RUN\\t4ML_10mm_2ND STAGE_STD\\t6-Cmpd Std\\t0\\t6-Cmpd Std\\t\\tYES\\tUNKNOWN\\t...\\t\\t0\\n',\n",
       " 'RUN\\t4 ML SHUTDOWN\\tSample\\t0\\tSHUTDOWN\\t\\tYES\\tUNKNOWN\\t...\\t\\t0\\n']"
      ]
     },
     "execution_count": 19,
     "metadata": {},
     "output_type": "execute_result"
    }
   ],
   "source": [
    "file1"
   ]
  },
  {
   "cell_type": "code",
   "execution_count": 41,
   "metadata": {},
   "outputs": [
    {
     "data": {
      "text/plain": [
       "['SkipPause[True,18,0]\\tMethodName[True,239,1]\\tSampleName[True,108,2]\\tSampleAmount[False,78,3]\\tSampleDescription[False,120,4]\\tSampleId[False,90,5]\\tInjectionYesNo[False,72,6]\\tPeakInformation[False,104,7]\\tSampleInjection[False,138,8]\\tNOTES_STRING[False,68,9]\\t#Sample Well[True,109,10]\\t#Plate_Sample[True,115,13]\\n',\n",
       " '\\n',\n",
       " 'RUN\\t4 ML STARTUP\\tSample\\t0\\t\\t\\tYES\\tUNKNOWN\\t...\\t\\t0\\t\\n',\n",
       " 'RUN\\t4ML_10mm_2ND STAGE_FLUSH\\tFlush\\t0\\t\\t\\tYES\\tUNKNOWN\\t...\\t\\t0\\t\\n',\n",
       " 'RUN\\t4ML_10mm_2ND STAGE_STD\\t6-Cmpd Std\\t0\\t\\t\\tYES\\tUNKNOWN\\t...\\t\\t0\\t\\n',\n",
       " 'RUN\\t4ML_10mm_2ND STAGE\\tL93279_7\\t0\\tFB04198483\\t\\tYES\\tUNKNOWN\\t...\\t15200600020\\t1\\tP01S01\\n',\n",
       " 'RUN\\t4ML_10mm_2ND STAGE\\tL40831_5\\t0\\tFB03754623\\t\\tYES\\tUNKNOWN\\t...\\t15200600020\\t2\\tP01S02\\n',\n",
       " 'RUN\\t4ML_10mm_2ND STAGE\\tL82787_3\\t0\\tFB04283871\\t\\tYES\\tUNKNOWN\\t...\\t15200600020\\t3\\tP01S03\\n',\n",
       " 'RUN\\t4ML_10mm_2ND STAGE\\tL18427_6\\t0\\tFB03629034\\t\\tYES\\tUNKNOWN\\t...\\t15200600020\\t4\\tP01S04\\n',\n",
       " 'RUN\\t4ML_10mm_2ND STAGE\\tL16445_2\\t0\\tFB03630959\\t\\tYES\\tUNKNOWN\\t...\\t15200600020\\t5\\tP02S01\\n',\n",
       " 'RUN\\t4ML_10mm_2ND STAGE\\tL32391_5\\t0\\tFB03754367\\t\\tYES\\tUNKNOWN\\t...\\t15200600020\\t6\\tP02S02\\n',\n",
       " 'RUN\\t4ML_10mm_2ND STAGE\\tL38685_3\\t0\\tFB04078337\\t\\tYES\\tUNKNOWN\\t...\\t15200600020\\t7\\tP02S03\\n',\n",
       " 'RUN\\t4ML_10mm_2ND STAGE\\tL94191_6\\t0\\tFB04284660\\t\\tYES\\tUNKNOWN\\t...\\t15200600020\\t8\\tP02S04\\n',\n",
       " 'RUN\\t4ML_10mm_2ND STAGE_FLUSH\\tFlush\\t0\\t\\t\\tYES\\tUNKNOWN\\t...\\t\\t0\\t\\n',\n",
       " 'RUN\\t4ML_10mm_2ND STAGE_STD\\t6-Cmpd Std\\t0\\t\\t\\tYES\\tUNKNOWN\\t...\\t\\t0\\t\\n',\n",
       " 'RUN\\t4ML_10mm_2ND STAGE\\tL3339_6\\t0\\tFB03635536\\t\\tYES\\tUNKNOWN\\t...\\t15200600020\\t9\\tP03S01\\n',\n",
       " 'RUN\\t4ML_10mm_2ND STAGE\\tL38099_7\\t0\\tFB04278427\\t\\tYES\\tUNKNOWN\\t...\\t15200600020\\t10\\tP03S02\\n',\n",
       " 'RUN\\t4ML_10mm_2ND STAGE\\tL15189_7\\t0\\tFB03628807\\t\\tYES\\tUNKNOWN\\t...\\t15200600020\\t11\\tP03S03\\n',\n",
       " 'RUN\\t4ML_10mm_2ND STAGE\\tL78981_5\\t0\\tFB04355730\\t\\tYES\\tUNKNOWN\\t...\\t15200600020\\t12\\tP03S04\\n',\n",
       " 'RUN\\t4ML_10mm_2ND STAGE\\tL40983_7\\t0\\tFB03754497\\t\\tYES\\tUNKNOWN\\t...\\t15200600020\\t13\\tP04S01\\n',\n",
       " 'RUN\\t4ML_10mm_2ND STAGE\\tL93037_2\\t0\\tFB04241809\\t\\tYES\\tUNKNOWN\\t...\\t15200600020\\t14\\tP04S02\\n',\n",
       " 'RUN\\t4ML_10mm_2ND STAGE\\tL55207_6\\t0\\tFB04363357\\t\\tYES\\tUNKNOWN\\t...\\t15200600020\\t15\\tP04S03\\n',\n",
       " 'RUN\\t4ML_10mm_2ND STAGE\\tL131469_6\\t0\\tFB04716436\\t\\tYES\\tUNKNOWN\\t...\\t15200600020\\t16\\tP04S04\\n',\n",
       " 'RUN\\t4ML_10mm_2ND STAGE_FLUSH\\tFlush\\t0\\t\\t\\tYES\\tUNKNOWN\\t...\\t\\t0\\t\\n',\n",
       " 'RUN\\t4ML_10mm_2ND STAGE_STD\\t6-Cmpd Std\\t0\\t\\t\\tYES\\tUNKNOWN\\t...\\t\\t0\\t\\n',\n",
       " 'RUN\\t4ML_10mm_2ND STAGE\\tL95325_1\\t0\\tFB01147625\\t\\tYES\\tUNKNOWN\\t...\\t15200600020\\t17\\tP05S01\\n',\n",
       " 'RUN\\t4ML_10mm_2ND STAGE\\tL13139_4\\t0\\tFA00269110\\t\\tYES\\tUNKNOWN\\t...\\t15200600020\\t18\\tP05S02\\n',\n",
       " 'RUN\\t4ML_10mm_2ND STAGE\\tL91723_5\\t0\\tFB04286329\\t\\tYES\\tUNKNOWN\\t...\\t15200600020\\t19\\tP05S03\\n',\n",
       " 'RUN\\t4ML_10mm_2ND STAGE\\tL78975_5\\t0\\tFB04355723\\t\\tYES\\tUNKNOWN\\t...\\t15200600020\\t20\\tP05S04\\n',\n",
       " 'RUN\\t4ML_10mm_2ND STAGE\\tL13131_4\\t0\\tFA00268880\\t\\tYES\\tUNKNOWN\\t...\\t15200600020\\t21\\tP06S01\\n',\n",
       " 'RUN\\t4ML_10mm_2ND STAGE\\tL46857_6\\t0\\tFB04248577\\t\\tYES\\tUNKNOWN\\t...\\t15200600020\\t22\\tP06S02\\n',\n",
       " 'RUN\\t4ML_10mm_2ND STAGE\\tL81251_7\\t0\\tFB04230441\\t\\tYES\\tUNKNOWN\\t...\\t15200600020\\t23\\tP06S03\\n',\n",
       " 'RUN\\t4ML_10mm_2ND STAGE\\tL50681_7\\t0\\tFB04583173\\t\\tYES\\tUNKNOWN\\t...\\t15200600020\\t24\\tP06S04\\n',\n",
       " 'RUN\\t4ML_10mm_2ND STAGE_FLUSH\\tFlush\\t0\\t\\t\\tYES\\tUNKNOWN\\t...\\t\\t0\\t\\n',\n",
       " 'RUN\\t4ML_10mm_2ND STAGE_STD\\t6-Cmpd Std\\t0\\t\\t\\tYES\\tUNKNOWN\\t...\\t\\t0\\t\\n',\n",
       " 'RUN\\t4ML_10mm_2ND STAGE_FLUSH\\tSample\\t0\\tFlush\\t\\tYES\\tUNKNOWN\\t...\\t\\t0\\n',\n",
       " 'RUN\\t4ML_10mm_2ND STAGE_STD\\t6-Cmpd Std\\t0\\t6-Cmpd Std\\t\\tYES\\tUNKNOWN\\t...\\t\\t0\\n',\n",
       " 'RUN\\t4 ML SHUTDOWN\\tSample\\t0\\tSHUTDOWN\\t\\tYES\\tUNKNOWN\\t...\\t\\t0\\n']"
      ]
     },
     "execution_count": 41,
     "metadata": {},
     "output_type": "execute_result"
    }
   ],
   "source": [
    "file2"
   ]
  },
  {
   "cell_type": "code",
   "execution_count": 30,
   "metadata": {},
   "outputs": [
    {
     "data": {
      "text/plain": [
       "14"
      ]
     },
     "execution_count": 30,
     "metadata": {},
     "output_type": "execute_result"
    }
   ],
   "source": [
    "str_start_sample_pos = re.search('\\t(?![0])\\d{1,2}\\t', file1[len(file1)-4]).group(0) #negative look-ahead\n",
    "int_start_sample_pos = int(str_start_sample_pos)\n",
    "int_start_sample_pos"
   ]
  },
  {
   "cell_type": "code",
   "execution_count": 32,
   "metadata": {},
   "outputs": [
    {
     "data": {
      "text/plain": [
       "4"
      ]
     },
     "execution_count": 32,
     "metadata": {},
     "output_type": "execute_result"
    }
   ],
   "source": [
    "str_start_plt_loc = re.search('\\tP\\d{1,2}S', file1[len(file1)-4]).group(0)\n",
    "int_start_plt_loc = int(str_start_plt_loc[2:len(str_start_plt_loc)-1])\n",
    "int_start_plt_loc"
   ]
  },
  {
   "cell_type": "code",
   "execution_count": 16,
   "metadata": {},
   "outputs": [
    {
     "data": {
      "text/plain": [
       "'\\t12\\t'"
      ]
     },
     "execution_count": 16,
     "metadata": {},
     "output_type": "execute_result"
    }
   ],
   "source": [
    "str_start_sample_pos"
   ]
  },
  {
   "cell_type": "code",
   "execution_count": 17,
   "metadata": {},
   "outputs": [
    {
     "data": {
      "text/plain": [
       "'\\tP03S'"
      ]
     },
     "execution_count": 17,
     "metadata": {},
     "output_type": "execute_result"
    }
   ],
   "source": [
    "str_start_plt_loc"
   ]
  },
  {
   "cell_type": "code",
   "execution_count": 11,
   "metadata": {},
   "outputs": [],
   "source": [
    "top_tsl = file1[:len(file1)-3]"
   ]
  },
  {
   "cell_type": "code",
   "execution_count": 97,
   "metadata": {},
   "outputs": [],
   "source": [
    "def extract_brooks_bc(tsl_file):\n",
    "    try:\n",
    "        return re.search('...\\t\\d{3,} /',tsl_file[5]).group(0).split('\\t')[1]\n",
    "    except Exception as e:\n",
    "        return 'NA'"
   ]
  },
  {
   "cell_type": "code",
   "execution_count": 105,
   "metadata": {},
   "outputs": [
    {
     "data": {
      "text/plain": [
       "'15200600010 '"
      ]
     },
     "execution_count": 105,
     "metadata": {},
     "output_type": "execute_result"
    }
   ],
   "source": [
    "re.search('(...\\t)(\\d{3,}\\s)',file1[-4]).group(2)"
   ]
  },
  {
   "cell_type": "code",
   "execution_count": 22,
   "metadata": {},
   "outputs": [
    {
     "data": {
      "text/plain": [
       "'NA'"
      ]
     },
     "execution_count": 22,
     "metadata": {},
     "output_type": "execute_result"
    }
   ],
   "source": [
    "extract_brooks_bc(file1)"
   ]
  },
  {
   "cell_type": "code",
   "execution_count": 28,
   "metadata": {
    "scrolled": true
   },
   "outputs": [
    {
     "data": {
      "text/plain": [
       "['SkipPause[True,18,0]\\tMethodName[True,239,1]\\tSampleName[True,108,2]\\tSampleAmount[False,78,3]\\tSampleDescription[False,120,4]\\tSampleId[False,90,5]\\tInjectionYesNo[False,72,6]\\tPeakInformation[False,104,7]\\tSampleInjection[False,138,8]\\tNOTES_STRING[False,68,9]\\t#Sample Well[True,109,10]\\t#Plate_Sample[True,115,13]\\n',\n",
       " '\\n',\n",
       " 'RUN\\t4 ML STARTUP\\tSample\\t0\\t\\t\\tYES\\tUNKNOWN\\t...\\t\\t0\\t\\n',\n",
       " 'RUN\\t4ML_10mm_2ND STAGE_FLUSH\\tFlush\\t0\\t\\t\\tYES\\tUNKNOWN\\t...\\t\\t0\\t\\n',\n",
       " 'RUN\\t4ML_10mm_2ND STAGE_STD\\t6-Cmpd Std\\t0\\t\\t\\tYES\\tUNKNOWN\\t...\\t\\t0\\t\\n',\n",
       " 'RUN\\t4ML_10mm_2ND STAGE\\tL129525_6\\t0\\tFB04587339\\t\\tYES\\tUNKNOWN\\t...\\t15200600010 / 11\\t1\\tP01S01\\n',\n",
       " 'RUN\\t4ML_10mm_2ND STAGE\\tL48809_5\\t0\\tFB04251130\\t\\tYES\\tUNKNOWN\\t...\\t15200600010 / 12\\t2\\tP01S02\\n',\n",
       " 'RUN\\t4ML_10mm_2ND STAGE\\tL129575_6\\t0\\tFB04716251\\t\\tYES\\tUNKNOWN\\t...\\t15200600010 / 13\\t3\\tP01S03\\n',\n",
       " 'RUN\\t4ML_10mm_2ND STAGE\\tL48781_7\\t0\\tFB04250855\\t\\tYES\\tUNKNOWN\\t...\\t15200600010 / 14\\t4\\tP01S04\\n',\n",
       " 'RUN\\t4ML_10mm_2ND STAGE\\tL99277_7\\t0\\tFB04242223\\t\\tYES\\tUNKNOWN\\t...\\t15200600010 / 21\\t5\\tP02S01\\n',\n",
       " 'RUN\\t4ML_10mm_2ND STAGE\\tL77355_6\\t0\\tFB04363141\\t\\tYES\\tUNKNOWN\\t...\\t15200600010 / 22\\t6\\tP02S02\\n',\n",
       " 'RUN\\t4ML_10mm_2ND STAGE\\tL22855_6\\t0\\tFB04575204\\t\\tYES\\tUNKNOWN\\t...\\t15200600010 / 23\\t7\\tP02S03\\n',\n",
       " 'RUN\\t4ML_10mm_2ND STAGE\\tL77349_5\\t0\\tFB04362984\\t\\tYES\\tUNKNOWN\\t...\\t15200600010 / 24\\t8\\tP02S04\\n',\n",
       " 'RUN\\t4ML_10mm_2ND STAGE_FLUSH\\tFlush\\t0\\t\\t\\tYES\\tUNKNOWN\\t...\\t\\t0\\t\\n',\n",
       " 'RUN\\t4ML_10mm_2ND STAGE_STD\\t6-Cmpd Std\\t0\\t\\t\\tYES\\tUNKNOWN\\t...\\t\\t0\\t\\n',\n",
       " 'RUN\\t4ML_10mm_2ND STAGE\\tL125181_7\\t0\\tFB04613570\\t\\tYES\\tUNKNOWN\\t...\\t15200600010 / 31\\t9\\tP03S01\\n',\n",
       " 'RUN\\t4ML_10mm_2ND STAGE\\tL92791_6\\t0\\tFB03117035\\t\\tYES\\tUNKNOWN\\t...\\t15200600010 / 32\\t10\\tP03S02\\n',\n",
       " 'RUN\\t4ML_10mm_2ND STAGE\\tL91999_6\\t0\\tFB04586497\\t\\tYES\\tUNKNOWN\\t...\\t15200600010 / 33\\t11\\tP03S03\\n',\n",
       " 'RUN\\t4ML_10mm_2ND STAGE\\tL96911_7\\t0\\tFB04190034\\t\\tYES\\tUNKNOWN\\t...\\t15200600010 / 34\\t12\\tP03S04\\n',\n",
       " 'RUN\\t4ML_10mm_2ND STAGE\\tL37265_6\\t0\\tFB04078293\\t\\tYES\\tUNKNOWN\\t...\\t15200600010 / 41\\t13\\tP04S01\\n',\n",
       " 'RUN\\t4ML_10mm_2ND STAGE\\tL106115_6\\t0\\tFB04595524\\t\\tYES\\tUNKNOWN\\t...\\t15200600010 / 42\\t14\\tP04S02\\n',\n",
       " 'RUN\\t4ML_10mm_2ND STAGE_FLUSH\\tSample\\t0\\tFlush\\t\\tYES\\tUNKNOWN\\t...\\t\\t0\\n',\n",
       " 'RUN\\t4ML_10mm_2ND STAGE_STD\\t6-Cmpd Std\\t0\\t6-Cmpd Std\\t\\tYES\\tUNKNOWN\\t...\\t\\t0\\n',\n",
       " 'RUN\\t4 ML SHUTDOWN\\tSample\\t0\\tSHUTDOWN\\t\\tYES\\tUNKNOWN\\t...\\t\\t0\\n']"
      ]
     },
     "execution_count": 28,
     "metadata": {},
     "output_type": "execute_result"
    }
   ],
   "source": [
    "file1"
   ]
  },
  {
   "cell_type": "code",
   "execution_count": 106,
   "metadata": {
    "scrolled": true
   },
   "outputs": [
    {
     "data": {
      "text/plain": [
       "['RUN\\t4ML_10mm_2ND STAGE\\tL7011_2\\t0\\tFB05262612\\t\\tYES\\tUNKNOWN\\t...\\t453\\t1\\tP01S01\\n',\n",
       " 'RUN\\t4ML_10mm_2ND STAGE\\tL6405_4\\t0\\tFB05263246\\t\\tYES\\tUNKNOWN\\t...\\t453\\t2\\tP01S02\\n',\n",
       " 'RUN\\t4ML_10mm_2ND STAGE\\tL7191_2\\t0\\tFB05263337\\t\\tYES\\tUNKNOWN\\t...\\t453\\t3\\tP01S03\\n',\n",
       " 'RUN\\t4ML_10mm_2ND STAGE\\tL7149_3\\t0\\tFB05263404\\t\\tYES\\tUNKNOWN\\t...\\t453\\t4\\tP01S04\\n',\n",
       " 'RUN\\t4ML_10mm_2ND STAGE\\tL14375_3\\t0\\tFB04589697\\t\\tYES\\tUNKNOWN\\t...\\t453\\t5\\tP02S01\\n',\n",
       " 'RUN\\t4ML_10mm_2ND STAGE\\tL14569_3\\t0\\tFB04589702\\t\\tYES\\tUNKNOWN\\t...\\t453\\t6\\tP02S02\\n',\n",
       " 'RUN\\t4ML_10mm_2ND STAGE\\tL124359_3\\t0\\tFB04614714\\t\\tYES\\tUNKNOWN\\t...\\t453\\t7\\tP02S03\\n',\n",
       " 'RUN\\t4ML_10mm_2ND STAGE\\tL124311_3\\t0\\tFB04614695\\t\\tYES\\tUNKNOWN\\t...\\t453\\t8\\tP02S04\\n',\n",
       " 'RUN\\t4ML_10mm_2ND STAGE_FLUSH\\tFlush\\t0\\t\\t\\tYES\\tUNKNOWN\\t...\\t\\t0\\t\\n',\n",
       " 'RUN\\t4ML_10mm_2ND STAGE_STD\\t6-Cmpd Std\\t0\\t\\t\\tYES\\tUNKNOWN\\t...\\t\\t0\\t\\n',\n",
       " 'RUN\\t4ML_10mm_2ND STAGE\\tL125353_3\\t0\\tFB04613287\\t\\tYES\\tUNKNOWN\\t...\\t453\\t9\\tP03S01\\n',\n",
       " 'RUN\\t4ML_10mm_2ND STAGE\\tL37909_3\\t0\\tFB05276025\\t\\tYES\\tUNKNOWN\\t...\\t453\\t10\\tP03S02\\n',\n",
       " 'RUN\\t4ML_10mm_2ND STAGE\\tL44611_2\\t0\\tFB05276015\\t\\tYES\\tUNKNOWN\\t...\\t453\\t11\\tP03S03\\n',\n",
       " 'RUN\\t4ML_10mm_2ND STAGE\\tL131479_4\\t0\\tFB04723342\\t\\tYES\\tUNKNOWN\\t...\\t453\\t12\\tP03S04\\n',\n",
       " 'RUN\\t4ML_10mm_2ND STAGE\\tL90967_3\\t0\\tFB04355046\\t\\tYES\\tUNKNOWN\\t...\\t453\\t13\\tP04S01\\n',\n",
       " 'RUN\\t4ML_10mm_2ND STAGE\\tL43519_4\\t0\\tFB05263462\\t\\tYES\\tUNKNOWN\\t...\\t453\\t14\\tP04S02\\n',\n",
       " 'RUN\\t4ML_10mm_2ND STAGE\\tL43515_5\\t0\\tFB05265354\\t\\tYES\\tUNKNOWN\\t...\\t453\\t15\\tP04S03\\n',\n",
       " 'RUN\\t4ML_10mm_2ND STAGE\\tL43519_5\\t0\\tFB05265361\\t\\tYES\\tUNKNOWN\\t...\\t453\\t16\\tP04S04\\n',\n",
       " 'RUN\\t4ML_10mm_2ND STAGE_FLUSH\\tFlush\\t0\\t\\t\\tYES\\tUNKNOWN\\t...\\t\\t0\\t\\n',\n",
       " 'RUN\\t4ML_10mm_2ND STAGE_STD\\t6-Cmpd Std\\t0\\t\\t\\tYES\\tUNKNOWN\\t...\\t\\t0\\t\\n',\n",
       " 'RUN\\t4ML_10mm_2ND STAGE\\tL43523_5\\t0\\tFB05265255\\t\\tYES\\tUNKNOWN\\t...\\t453\\t17\\tP05S01\\n',\n",
       " 'RUN\\t4ML_10mm_2ND STAGE\\tL20617_3\\t0\\tFB04574919\\t\\tYES\\tUNKNOWN\\t...\\t453\\t18\\tP05S02\\n',\n",
       " 'RUN\\t4ML_10mm_2ND STAGE\\tL124973_3\\t0\\tFB04614480\\t\\tYES\\tUNKNOWN\\t...\\t453\\t19\\tP05S03\\n',\n",
       " 'RUN\\t4ML_10mm_2ND STAGE\\tL125015_3\\t0\\tFB04619382\\t\\tYES\\tUNKNOWN\\t...\\t453\\t20\\tP05S04\\n',\n",
       " 'RUN\\t4ML_10mm_2ND STAGE\\tL124999_3\\t0\\tFB04619392\\t\\tYES\\tUNKNOWN\\t...\\t453\\t21\\tP06S01\\n',\n",
       " 'RUN\\t4ML_10mm_2ND STAGE\\tL125045_3\\t0\\tFB04614409\\t\\tYES\\tUNKNOWN\\t...\\t453\\t22\\tP06S02\\n',\n",
       " 'RUN\\t4ML_10mm_2ND STAGE\\tL125021_3\\t0\\tFB04614487\\t\\tYES\\tUNKNOWN\\t...\\t453\\t23\\tP06S03\\n',\n",
       " 'RUN\\t4ML_10mm_2ND STAGE\\tL125079_3\\t0\\tFB04614241\\t\\tYES\\tUNKNOWN\\t...\\t453\\t24\\tP06S04\\n',\n",
       " 'RUN\\t4ML_10mm_2ND STAGE_FLUSH\\tFlush\\t0\\t\\t\\tYES\\tUNKNOWN\\t...\\t\\t0\\t\\n',\n",
       " 'RUN\\t4ML_10mm_2ND STAGE_STD\\t6-Cmpd Std\\t0\\t\\t\\tYES\\tUNKNOWN\\t...\\t\\t0\\t\\n',\n",
       " 'RUN\\t4ML_10mm_2ND STAGE_FLUSH\\tSample\\t0\\tFlush\\t\\tYES\\tUNKNOWN\\t...\\t\\t0\\n',\n",
       " 'RUN\\t4ML_10mm_2ND STAGE_STD\\t6-Cmpd Std\\t0\\t6-Cmpd Std\\t\\tYES\\tUNKNOWN\\t...\\t\\t0\\n',\n",
       " 'RUN\\t4 ML SHUTDOWN\\tSample\\t0\\tSHUTDOWN\\t\\tYES\\tUNKNOWN\\t...\\t\\t0\\n']"
      ]
     },
     "execution_count": 106,
     "metadata": {},
     "output_type": "execute_result"
    }
   ],
   "source": [
    "file2[5:]"
   ]
  },
  {
   "cell_type": "code",
   "execution_count": 36,
   "metadata": {},
   "outputs": [],
   "source": [
    "def replace_tsl_values(file2,int_start_sample_num): \n",
    "    new_tsl = {}\n",
    "    for i,line in enumerate(file2[5:]):\n",
    "        if 'FLUSH' in line or 'STD' in line or 'SHUTDOWN' in line:\n",
    "            new_tsl[i] = line\n",
    "        else:\n",
    "            try:\n",
    "                int_start_sample_num += 1\n",
    "                sample_num = re.search('\\t(?![0])\\d{1,2}\\t', line).group(0)\n",
    "                new_tsl[i] = line.replace(sample_num, f'\\t{int_start_sample_num}\\t')            \n",
    "            except AttributeError as e:\n",
    "                print(e)\n",
    "    return [v for v in new_tsl.values()]"
   ]
  },
  {
   "cell_type": "code",
   "execution_count": 108,
   "metadata": {},
   "outputs": [
    {
     "data": {
      "text/plain": [
       "['RUN\\t4ML_10mm_2ND STAGE\\tL7011_2\\t0\\tFB05262612\\t\\tYES\\tUNKNOWN\\t...\\t453\\t7\\tP01S01\\n',\n",
       " 'RUN\\t4ML_10mm_2ND STAGE\\tL6405_4\\t0\\tFB05263246\\t\\tYES\\tUNKNOWN\\t...\\t453\\t8\\tP01S02\\n',\n",
       " 'RUN\\t4ML_10mm_2ND STAGE\\tL7191_2\\t0\\tFB05263337\\t\\tYES\\tUNKNOWN\\t...\\t453\\t9\\tP01S03\\n',\n",
       " 'RUN\\t4ML_10mm_2ND STAGE\\tL7149_3\\t0\\tFB05263404\\t\\tYES\\tUNKNOWN\\t...\\t453\\t10\\tP01S04\\n',\n",
       " 'RUN\\t4ML_10mm_2ND STAGE\\tL14375_3\\t0\\tFB04589697\\t\\tYES\\tUNKNOWN\\t...\\t453\\t11\\tP02S01\\n',\n",
       " 'RUN\\t4ML_10mm_2ND STAGE\\tL14569_3\\t0\\tFB04589702\\t\\tYES\\tUNKNOWN\\t...\\t453\\t12\\tP02S02\\n',\n",
       " 'RUN\\t4ML_10mm_2ND STAGE\\tL124359_3\\t0\\tFB04614714\\t\\tYES\\tUNKNOWN\\t...\\t453\\t13\\tP02S03\\n',\n",
       " 'RUN\\t4ML_10mm_2ND STAGE\\tL124311_3\\t0\\tFB04614695\\t\\tYES\\tUNKNOWN\\t...\\t453\\t14\\tP02S04\\n',\n",
       " 'RUN\\t4ML_10mm_2ND STAGE_FLUSH\\tFlush\\t0\\t\\t\\tYES\\tUNKNOWN\\t...\\t\\t0\\t\\n',\n",
       " 'RUN\\t4ML_10mm_2ND STAGE_STD\\t6-Cmpd Std\\t0\\t\\t\\tYES\\tUNKNOWN\\t...\\t\\t0\\t\\n',\n",
       " 'RUN\\t4ML_10mm_2ND STAGE\\tL125353_3\\t0\\tFB04613287\\t\\tYES\\tUNKNOWN\\t...\\t453\\t15\\tP03S01\\n',\n",
       " 'RUN\\t4ML_10mm_2ND STAGE\\tL37909_3\\t0\\tFB05276025\\t\\tYES\\tUNKNOWN\\t...\\t453\\t16\\tP03S02\\n',\n",
       " 'RUN\\t4ML_10mm_2ND STAGE\\tL44611_2\\t0\\tFB05276015\\t\\tYES\\tUNKNOWN\\t...\\t453\\t17\\tP03S03\\n',\n",
       " 'RUN\\t4ML_10mm_2ND STAGE\\tL131479_4\\t0\\tFB04723342\\t\\tYES\\tUNKNOWN\\t...\\t453\\t18\\tP03S04\\n',\n",
       " 'RUN\\t4ML_10mm_2ND STAGE\\tL90967_3\\t0\\tFB04355046\\t\\tYES\\tUNKNOWN\\t...\\t453\\t19\\tP04S01\\n',\n",
       " 'RUN\\t4ML_10mm_2ND STAGE\\tL43519_4\\t0\\tFB05263462\\t\\tYES\\tUNKNOWN\\t...\\t453\\t20\\tP04S02\\n',\n",
       " 'RUN\\t4ML_10mm_2ND STAGE\\tL43515_5\\t0\\tFB05265354\\t\\tYES\\tUNKNOWN\\t...\\t453\\t21\\tP04S03\\n',\n",
       " 'RUN\\t4ML_10mm_2ND STAGE\\tL43519_5\\t0\\tFB05265361\\t\\tYES\\tUNKNOWN\\t...\\t453\\t22\\tP04S04\\n',\n",
       " 'RUN\\t4ML_10mm_2ND STAGE_FLUSH\\tFlush\\t0\\t\\t\\tYES\\tUNKNOWN\\t...\\t\\t0\\t\\n',\n",
       " 'RUN\\t4ML_10mm_2ND STAGE_STD\\t6-Cmpd Std\\t0\\t\\t\\tYES\\tUNKNOWN\\t...\\t\\t0\\t\\n',\n",
       " 'RUN\\t4ML_10mm_2ND STAGE\\tL43523_5\\t0\\tFB05265255\\t\\tYES\\tUNKNOWN\\t...\\t453\\t23\\tP05S01\\n',\n",
       " 'RUN\\t4ML_10mm_2ND STAGE\\tL20617_3\\t0\\tFB04574919\\t\\tYES\\tUNKNOWN\\t...\\t453\\t24\\tP05S02\\n',\n",
       " 'RUN\\t4ML_10mm_2ND STAGE\\tL124973_3\\t0\\tFB04614480\\t\\tYES\\tUNKNOWN\\t...\\t453\\t25\\tP05S03\\n',\n",
       " 'RUN\\t4ML_10mm_2ND STAGE\\tL125015_3\\t0\\tFB04619382\\t\\tYES\\tUNKNOWN\\t...\\t453\\t26\\tP05S04\\n',\n",
       " 'RUN\\t4ML_10mm_2ND STAGE\\tL124999_3\\t0\\tFB04619392\\t\\tYES\\tUNKNOWN\\t...\\t453\\t27\\tP06S01\\n',\n",
       " 'RUN\\t4ML_10mm_2ND STAGE\\tL125045_3\\t0\\tFB04614409\\t\\tYES\\tUNKNOWN\\t...\\t453\\t28\\tP06S02\\n',\n",
       " 'RUN\\t4ML_10mm_2ND STAGE\\tL125021_3\\t0\\tFB04614487\\t\\tYES\\tUNKNOWN\\t...\\t453\\t29\\tP06S03\\n',\n",
       " 'RUN\\t4ML_10mm_2ND STAGE\\tL125079_3\\t0\\tFB04614241\\t\\tYES\\tUNKNOWN\\t...\\t453\\t30\\tP06S04\\n',\n",
       " 'RUN\\t4ML_10mm_2ND STAGE_FLUSH\\tFlush\\t0\\t\\t\\tYES\\tUNKNOWN\\t...\\t\\t0\\t\\n',\n",
       " 'RUN\\t4ML_10mm_2ND STAGE_STD\\t6-Cmpd Std\\t0\\t\\t\\tYES\\tUNKNOWN\\t...\\t\\t0\\t\\n',\n",
       " 'RUN\\t4ML_10mm_2ND STAGE_FLUSH\\tSample\\t0\\tFlush\\t\\tYES\\tUNKNOWN\\t...\\t\\t0\\n',\n",
       " 'RUN\\t4ML_10mm_2ND STAGE_STD\\t6-Cmpd Std\\t0\\t6-Cmpd Std\\t\\tYES\\tUNKNOWN\\t...\\t\\t0\\n',\n",
       " 'RUN\\t4 ML SHUTDOWN\\tSample\\t0\\tSHUTDOWN\\t\\tYES\\tUNKNOWN\\t...\\t\\t0\\n']"
      ]
     },
     "execution_count": 108,
     "metadata": {},
     "output_type": "execute_result"
    }
   ],
   "source": [
    "replace_tsl_values(file2, 6)"
   ]
  },
  {
   "cell_type": "code",
   "execution_count": 31,
   "metadata": {},
   "outputs": [],
   "source": [
    "with open('test_tsl.tsl', 'w') as f:\n",
    "    for line in new_tsl:\n",
    "        f.write(line)"
   ]
  },
  {
   "cell_type": "code",
   "execution_count": 139,
   "metadata": {},
   "outputs": [
    {
     "data": {
      "text/plain": [
       "['RUN\\t4ML_10mm_2ND STAGE\\tL125109_3\\t0\\tFB04614252\\t\\tYES\\tUNKNOWN\\t...\\t134\\t25\\tP01S01\\n',\n",
       " 'RUN\\t4ML_10mm_2ND STAGE\\tL130425_2\\t0\\tFB04715886\\t\\tYES\\tUNKNOWN\\t...\\t134\\t26\\tP01S02\\n',\n",
       " 'RUN\\t4ML_10mm_2ND STAGE\\tL127813_2\\t0\\tFB04586990\\t\\tYES\\tUNKNOWN\\t...\\t134\\t27\\tP01S03\\n',\n",
       " 'RUN\\t4ML_10mm_2ND STAGE\\tL127735_3\\t0\\tFB04586549\\t\\tYES\\tUNKNOWN\\t...\\t134\\t28\\tP01S04\\n',\n",
       " 'RUN\\t4ML_10mm_2ND STAGE\\tL14465_5\\t0\\tFB04580728\\t\\tYES\\tUNKNOWN\\t...\\t134\\t29\\tP02S01\\n',\n",
       " 'RUN\\t4ML_10mm_2ND STAGE\\tL90999_3\\t0\\tFB04355221\\t\\tYES\\tUNKNOWN\\t...\\t134\\t30\\tP02S02\\n',\n",
       " 'RUN\\t4ML_10mm_2ND STAGE\\tL37283_3\\t0\\tFB04161205\\t\\tYES\\tUNKNOWN\\t...\\t134\\t31\\tP02S03\\n',\n",
       " 'RUN\\t4ML_10mm_2ND STAGE\\tL37417_2\\t0\\tFB04161555\\t\\tYES\\tUNKNOWN\\t...\\t134\\t32\\tP02S04\\n',\n",
       " 'RUN\\t4ML_10mm_2ND STAGE_FLUSH\\tFlush\\t0\\t\\t\\tYES\\tUNKNOWN\\t...\\t\\t0\\t\\n',\n",
       " 'RUN\\t4ML_10mm_2ND STAGE_STD\\t6-Cmpd Std\\t0\\t\\t\\tYES\\tUNKNOWN\\t...\\t\\t0\\t\\n',\n",
       " 'RUN\\t4ML_10mm_2ND STAGE\\tL131683_6\\t0\\tFB05071036\\t\\tYES\\tUNKNOWN\\t...\\t134\\t33\\tP03S01\\n',\n",
       " 'RUN\\t4ML_10mm_2ND STAGE\\tL131785_6\\t0\\tFB04584422\\t\\tYES\\tUNKNOWN\\t...\\t134\\t34\\tP03S02\\n',\n",
       " 'RUN\\t4ML_10mm_2ND STAGE\\tL131787_7\\t0\\tFB04584380\\t\\tYES\\tUNKNOWN\\t...\\t134\\t35\\tP03S03\\n',\n",
       " 'RUN\\t4ML_10mm_2ND STAGE\\tL131785_5\\t0\\tFB05070987\\t\\tYES\\tUNKNOWN\\t...\\t134\\t36\\tP03S04\\n',\n",
       " 'RUN\\t4ML_10mm_2ND STAGE\\tL129561_3\\t0\\tFB04593471\\t\\tYES\\tUNKNOWN\\t...\\t134\\t37\\tP04S01\\n',\n",
       " 'RUN\\t4ML_10mm_2ND STAGE\\tL131693_4\\t0\\tFB05073536\\t\\tYES\\tUNKNOWN\\t...\\t134\\t38\\tP04S02\\n',\n",
       " 'RUN\\t4ML_10mm_2ND STAGE\\tL131691_4\\t0\\tFB05073535\\t\\tYES\\tUNKNOWN\\t...\\t134\\t39\\tP04S03\\n',\n",
       " 'RUN\\t4ML_10mm_2ND STAGE\\tL127761_3\\t0\\tFB04596242\\t\\tYES\\tUNKNOWN\\t...\\t134\\t40\\tP04S04\\n',\n",
       " 'RUN\\t4ML_10mm_2ND STAGE_FLUSH\\tFlush\\t0\\t\\t\\tYES\\tUNKNOWN\\t...\\t\\t0\\t\\n',\n",
       " 'RUN\\t4ML_10mm_2ND STAGE_STD\\t6-Cmpd Std\\t0\\t\\t\\tYES\\tUNKNOWN\\t...\\t\\t0\\t\\n',\n",
       " 'RUN\\t4ML_10mm_2ND STAGE\\tL127843_3\\t0\\tFB04577329\\t\\tYES\\tUNKNOWN\\t...\\t134\\t41\\tP05S01\\n',\n",
       " 'RUN\\t4ML_10mm_2ND STAGE\\tL22789_4\\t0\\tFB04582563\\t\\tYES\\tUNKNOWN\\t...\\t134\\t42\\tP05S02\\n',\n",
       " 'RUN\\t4ML_10mm_2ND STAGE\\tL127135_3\\t0\\tFB04580688\\t\\tYES\\tUNKNOWN\\t...\\t134\\t43\\tP05S03\\n',\n",
       " 'RUN\\t4ML_10mm_2ND STAGE\\tL127265_2\\t0\\tFB04581773\\t\\tYES\\tUNKNOWN\\t...\\t134\\t44\\tP05S04\\n',\n",
       " 'RUN\\t4ML_10mm_2ND STAGE\\tL127255_2\\t0\\tFB04581786\\t\\tYES\\tUNKNOWN\\t...\\t134\\t45\\tP06S01\\n',\n",
       " 'RUN\\t4ML_10mm_2ND STAGE\\tL77731_4\\t0\\tFB04242984\\t\\tYES\\tUNKNOWN\\t...\\t134\\t46\\tP06S02\\n',\n",
       " 'RUN\\t4ML_10mm_2ND STAGE\\tL100809_3\\t0\\tFB04242227\\t\\tYES\\tUNKNOWN\\t...\\t134\\t47\\tP06S03\\n',\n",
       " 'RUN\\t4ML_10mm_2ND STAGE\\tL22775_3\\t0\\tFB04582663\\t\\tYES\\tUNKNOWN\\t...\\t134\\t48\\tP06S04\\n',\n",
       " 'RUN\\t4ML_10mm_2ND STAGE_FLUSH\\tFlush\\t0\\t\\t\\tYES\\tUNKNOWN\\t...\\t\\t0\\t\\n',\n",
       " 'RUN\\t4ML_10mm_2ND STAGE_STD\\t6-Cmpd Std\\t0\\t\\t\\tYES\\tUNKNOWN\\t...\\t\\t0\\t\\n',\n",
       " 'RUN\\t4ML_10mm_2ND STAGE_FLUSH\\tSample\\t0\\tFlush\\t\\tYES\\tUNKNOWN\\t...\\t\\t0\\n',\n",
       " 'RUN\\t4ML_10mm_2ND STAGE_STD\\t6-Cmpd Std\\t0\\t6-Cmpd Std\\t\\tYES\\tUNKNOWN\\t...\\t\\t0\\n',\n",
       " 'RUN\\t4 ML SHUTDOWN\\tSample\\t0\\tSHUTDOWN\\t\\tYES\\tUNKNOWN\\t...\\t\\t0\\n']"
      ]
     },
     "execution_count": 139,
     "metadata": {},
     "output_type": "execute_result"
    }
   ],
   "source": [
    "new_tsl = replace_tsl_values(file2,int_start_sample_pos)\n",
    "replace_tsl_values_2(new_tsl, int_start_plt_loc)"
   ]
  },
  {
   "cell_type": "code",
   "execution_count": 135,
   "metadata": {},
   "outputs": [
    {
     "data": {
      "text/plain": [
       "<re.Match object; span=(69, 77), match='\\tP01S01\\n'>"
      ]
     },
     "execution_count": 135,
     "metadata": {},
     "output_type": "execute_result"
    }
   ],
   "source": [
    "p = 'RUN\\t4ML_10mm_2ND STAGE\\tL125109_3\\t0\\tFB04614252\\t\\tYES\\tUNKNOWN\\t...\\t134\\t25\\tP01S01\\n'\n",
    "re.search('\\tP\\d{2}S\\d{2}\\n', p)"
   ]
  },
  {
   "cell_type": "code",
   "execution_count": 66,
   "metadata": {},
   "outputs": [],
   "source": [
    "gilson_plt_loc_dict = generate_ref_dict(int_start_plt_loc)\n",
    "bottom_tsl = replace_tsl_values(file2, int_start_sample_pos)\n",
    "new_tsl = top_tsl + bottom_tsl"
   ]
  },
  {
   "cell_type": "code",
   "execution_count": 67,
   "metadata": {},
   "outputs": [
    {
     "data": {
      "text/plain": [
       "{1: ['P06S01'],\n",
       " 2: ['P06S02'],\n",
       " 3: ['P06S03'],\n",
       " 4: ['P06S04'],\n",
       " 5: ['P07S01'],\n",
       " 6: ['P07S02'],\n",
       " 7: ['P07S03'],\n",
       " 8: ['P07S04'],\n",
       " 9: ['P08S01'],\n",
       " 10: ['P08S02'],\n",
       " 11: ['P08S03'],\n",
       " 12: ['P08S04'],\n",
       " 13: ['P09S01'],\n",
       " 14: ['P09S02'],\n",
       " 15: ['P09S03'],\n",
       " 16: ['P09S04'],\n",
       " 17: ['P10S01'],\n",
       " 18: ['P10S02'],\n",
       " 19: ['P10S03'],\n",
       " 20: ['P10S04'],\n",
       " 21: ['P11S01'],\n",
       " 22: ['P11S02'],\n",
       " 23: ['P11S03'],\n",
       " 24: ['P11S04']}"
      ]
     },
     "execution_count": 67,
     "metadata": {},
     "output_type": "execute_result"
    }
   ],
   "source": [
    "gilson_plt_loc_dict"
   ]
  },
  {
   "cell_type": "code",
   "execution_count": 68,
   "metadata": {},
   "outputs": [
    {
     "data": {
      "text/plain": [
       "['SkipPause[True,18,0]\\tMethodName[True,239,1]\\tSampleName[True,108,2]\\tSampleAmount[False,78,3]\\tSampleDescription[False,120,4]\\tSampleId[False,90,5]\\tInjectionYesNo[False,72,6]\\tPeakInformation[False,104,7]\\tSampleInjection[False,138,8]\\tNOTES_STRING[False,68,9]\\t#Sample Well[True,109,10]\\t#Plate_Sample[True,115,13]\\n',\n",
       " '\\n',\n",
       " 'RUN\\t4 ML STARTUP\\tSample\\t0\\t\\t\\tYES\\tUNKNOWN\\t...\\t\\t0\\t\\n',\n",
       " 'RUN\\t4ML_10mm_2ND STAGE_FLUSH\\tFlush\\t0\\t\\t\\tYES\\tUNKNOWN\\t...\\t\\t0\\t\\n',\n",
       " 'RUN\\t4ML_10mm_2ND STAGE_STD\\t6-Cmpd Std\\t0\\t\\t\\tYES\\tUNKNOWN\\t...\\t\\t0\\t\\n',\n",
       " 'RUN\\t4ML_10mm_2ND STAGE\\tM21535_5\\t0\\tFB02646205\\t\\tYES\\tUNKNOWN\\t...\\t127\\t1\\tP01S01\\n',\n",
       " 'RUN\\t4ML_10mm_2ND STAGE\\tM21551_5\\t0\\tFB02646225\\t\\tYES\\tUNKNOWN\\t...\\t127\\t2\\tP01S02\\n',\n",
       " 'RUN\\t4ML_10mm_2ND STAGE\\tM21523_5\\t0\\tFB02646185\\t\\tYES\\tUNKNOWN\\t...\\t127\\t3\\tP01S03\\n',\n",
       " 'RUN\\t4ML_10mm_2ND STAGE\\tM24173_2\\t0\\tFB03658814\\t\\tYES\\tUNKNOWN\\t...\\t127\\t4\\tP01S04\\n',\n",
       " 'RUN\\t4ML_10mm_2ND STAGE\\tM23131_6\\t0\\tFB02699823\\t\\tYES\\tUNKNOWN\\t...\\t127\\t5\\tP02S01\\n',\n",
       " 'RUN\\t4ML_10mm_2ND STAGE\\tM23127_6\\t0\\tFB02699828\\t\\tYES\\tUNKNOWN\\t...\\t127\\t6\\tP02S02\\n',\n",
       " 'RUN\\t4ML_10mm_2ND STAGE\\tL7547_3\\t0\\tFB02928213\\t\\tYES\\tUNKNOWN\\t...\\t127\\t7\\tP02S03\\n',\n",
       " 'RUN\\t4ML_10mm_2ND STAGE\\tL40885_3\\t0\\tFB03754792\\t\\tYES\\tUNKNOWN\\t...\\t127\\t8\\tP02S04\\n',\n",
       " 'RUN\\t4ML_10mm_2ND STAGE_FLUSH\\tFlush\\t0\\t\\t\\tYES\\tUNKNOWN\\t...\\t\\t0\\t\\n',\n",
       " 'RUN\\t4ML_10mm_2ND STAGE_STD\\t6-Cmpd Std\\t0\\t\\t\\tYES\\tUNKNOWN\\t...\\t\\t0\\t\\n',\n",
       " 'RUN\\t4ML_10mm_2ND STAGE\\tL88759_2\\t0\\tFB03115920\\t\\tYES\\tUNKNOWN\\t...\\t127\\t9\\tP03S01\\n',\n",
       " 'RUN\\t4ML_10mm_2ND STAGE\\tL88699_3\\t0\\tFB03115877\\t\\tYES\\tUNKNOWN\\t...\\t127\\t10\\tP03S02\\n',\n",
       " 'RUN\\t4ML_10mm_2ND STAGE\\tL88261_6\\t0\\tFB04082059\\t\\tYES\\tUNKNOWN\\t...\\t127\\t11\\tP03S03\\n',\n",
       " 'RUN\\t4ML_10mm_2ND STAGE\\tL88261_5\\t0\\tFB04163612\\t\\tYES\\tUNKNOWN\\t...\\t127\\t12\\tP03S04\\n',\n",
       " 'RUN\\t4ML_10mm_2ND STAGE\\tL72331_3\\t0\\tFB01146720\\t\\tYES\\tUNKNOWN\\t...\\t127\\t13\\tP04S01\\n',\n",
       " 'RUN\\t4ML_10mm_2ND STAGE\\tL72221_5\\t0\\tFB01308137\\t\\tYES\\tUNKNOWN\\t...\\t127\\t14\\tP04S02\\n',\n",
       " 'RUN\\t4ML_10mm_2ND STAGE\\tL12023_6\\t0\\tFB01312659\\t\\tYES\\tUNKNOWN\\t...\\t127\\t15\\tP04S03\\n',\n",
       " 'RUN\\t4ML_10mm_2ND STAGE\\tL73889_3\\t0\\tFB01313428\\t\\tYES\\tUNKNOWN\\t...\\t127\\t16\\tP04S04\\n',\n",
       " 'RUN\\t4ML_10mm_2ND STAGE_FLUSH\\tFlush\\t0\\t\\t\\tYES\\tUNKNOWN\\t...\\t\\t0\\t\\n',\n",
       " 'RUN\\t4ML_10mm_2ND STAGE_STD\\t6-Cmpd Std\\t0\\t\\t\\tYES\\tUNKNOWN\\t...\\t\\t0\\t\\n',\n",
       " 'RUN\\t4ML_10mm_2ND STAGE\\tL55435_5\\t0\\tFB02646672\\t\\tYES\\tUNKNOWN\\t...\\t127\\t17\\tP05S01\\n',\n",
       " 'RUN\\t4ML_10mm_2ND STAGE\\tL92763_4\\t0\\tFA00306557\\t\\tYES\\tUNKNOWN\\t...\\t127\\t18\\tP05S02\\n',\n",
       " 'RUN\\t4ML_10mm_2ND STAGE\\tL92757_4\\t0\\tFB01306222\\t\\tYES\\tUNKNOWN\\t...\\t127\\t19\\tP05S03\\n',\n",
       " 'RUN\\t4ML_10mm_2ND STAGE\\tL73887_7\\t0\\tFB02648059\\t\\tYES\\tUNKNOWN\\t...\\t127\\t20\\tP05S04\\n',\n",
       " 'RUN\\t4ML_10mm_2ND STAGE\\tL73813_7\\t0\\tFB02647819\\t\\tYES\\tUNKNOWN\\t...\\t127\\t21\\tP06S01\\n',\n",
       " 'RUN\\t4ML_10mm_2ND STAGE\\tL55001_4\\t0\\tFB02709783\\t\\tYES\\tUNKNOWN\\t...\\t127\\t22\\tP06S02\\n',\n",
       " 'RUN\\t4ML_10mm_2ND STAGE\\tL5683_6\\t0\\tFB02931245\\t\\tYES\\tUNKNOWN\\t...\\t127\\t23\\tP06S03\\n',\n",
       " 'RUN\\t4ML_10mm_2ND STAGE\\tL5885_5\\t0\\tFB02931250\\t\\tYES\\tUNKNOWN\\t...\\t127\\t24\\tP06S04\\n',\n",
       " 'RUN\\t4ML_10mm_2ND STAGE_FLUSH\\tFlush\\t0\\t\\t\\tYES\\tUNKNOWN\\t...\\t\\t0\\t\\n',\n",
       " 'RUN\\t4ML_10mm_2ND STAGE_STD\\t6-Cmpd Std\\t0\\t\\t\\tYES\\tUNKNOWN\\t...\\t\\t0\\t\\n',\n",
       " 'RUN\\t4ML_10mm_2ND STAGE\\tL125109_3\\t0\\tFB04614252\\t\\tYES\\tUNKNOWN\\t...\\t134\\t25\\tP01S01\\n',\n",
       " 'RUN\\t4ML_10mm_2ND STAGE\\tL130425_2\\t0\\tFB04715886\\t\\tYES\\tUNKNOWN\\t...\\t134\\t26\\tP01S02\\n',\n",
       " 'RUN\\t4ML_10mm_2ND STAGE\\tL127813_2\\t0\\tFB04586990\\t\\tYES\\tUNKNOWN\\t...\\t134\\t27\\tP01S03\\n',\n",
       " 'RUN\\t4ML_10mm_2ND STAGE\\tL127735_3\\t0\\tFB04586549\\t\\tYES\\tUNKNOWN\\t...\\t134\\t28\\tP01S04\\n',\n",
       " 'RUN\\t4ML_10mm_2ND STAGE\\tL14465_5\\t0\\tFB04580728\\t\\tYES\\tUNKNOWN\\t...\\t134\\t29\\tP02S01\\n',\n",
       " 'RUN\\t4ML_10mm_2ND STAGE\\tL90999_3\\t0\\tFB04355221\\t\\tYES\\tUNKNOWN\\t...\\t134\\t30\\tP02S02\\n',\n",
       " 'RUN\\t4ML_10mm_2ND STAGE\\tL37283_3\\t0\\tFB04161205\\t\\tYES\\tUNKNOWN\\t...\\t134\\t31\\tP02S03\\n',\n",
       " 'RUN\\t4ML_10mm_2ND STAGE\\tL37417_2\\t0\\tFB04161555\\t\\tYES\\tUNKNOWN\\t...\\t134\\t32\\tP02S04\\n',\n",
       " 'RUN\\t4ML_10mm_2ND STAGE_FLUSH\\tFlush\\t0\\t\\t\\tYES\\tUNKNOWN\\t...\\t\\t0\\t\\n',\n",
       " 'RUN\\t4ML_10mm_2ND STAGE_STD\\t6-Cmpd Std\\t0\\t\\t\\tYES\\tUNKNOWN\\t...\\t\\t0\\t\\n',\n",
       " 'RUN\\t4ML_10mm_2ND STAGE\\tL131683_6\\t0\\tFB05071036\\t\\tYES\\tUNKNOWN\\t...\\t134\\t33\\tP03S01\\n',\n",
       " 'RUN\\t4ML_10mm_2ND STAGE\\tL131785_6\\t0\\tFB04584422\\t\\tYES\\tUNKNOWN\\t...\\t134\\t34\\tP03S02\\n',\n",
       " 'RUN\\t4ML_10mm_2ND STAGE\\tL131787_7\\t0\\tFB04584380\\t\\tYES\\tUNKNOWN\\t...\\t134\\t35\\tP03S03\\n',\n",
       " 'RUN\\t4ML_10mm_2ND STAGE\\tL131785_5\\t0\\tFB05070987\\t\\tYES\\tUNKNOWN\\t...\\t134\\t36\\tP03S04\\n',\n",
       " 'RUN\\t4ML_10mm_2ND STAGE\\tL129561_3\\t0\\tFB04593471\\t\\tYES\\tUNKNOWN\\t...\\t134\\t37\\tP04S01\\n',\n",
       " 'RUN\\t4ML_10mm_2ND STAGE\\tL131693_4\\t0\\tFB05073536\\t\\tYES\\tUNKNOWN\\t...\\t134\\t38\\tP04S02\\n',\n",
       " 'RUN\\t4ML_10mm_2ND STAGE\\tL131691_4\\t0\\tFB05073535\\t\\tYES\\tUNKNOWN\\t...\\t134\\t39\\tP04S03\\n',\n",
       " 'RUN\\t4ML_10mm_2ND STAGE\\tL127761_3\\t0\\tFB04596242\\t\\tYES\\tUNKNOWN\\t...\\t134\\t40\\tP04S04\\n',\n",
       " 'RUN\\t4ML_10mm_2ND STAGE_FLUSH\\tFlush\\t0\\t\\t\\tYES\\tUNKNOWN\\t...\\t\\t0\\t\\n',\n",
       " 'RUN\\t4ML_10mm_2ND STAGE_STD\\t6-Cmpd Std\\t0\\t\\t\\tYES\\tUNKNOWN\\t...\\t\\t0\\t\\n',\n",
       " 'RUN\\t4ML_10mm_2ND STAGE\\tL127843_3\\t0\\tFB04577329\\t\\tYES\\tUNKNOWN\\t...\\t134\\t41\\tP05S01\\n',\n",
       " 'RUN\\t4ML_10mm_2ND STAGE\\tL22789_4\\t0\\tFB04582563\\t\\tYES\\tUNKNOWN\\t...\\t134\\t42\\tP05S02\\n',\n",
       " 'RUN\\t4ML_10mm_2ND STAGE\\tL127135_3\\t0\\tFB04580688\\t\\tYES\\tUNKNOWN\\t...\\t134\\t43\\tP05S03\\n',\n",
       " 'RUN\\t4ML_10mm_2ND STAGE\\tL127265_2\\t0\\tFB04581773\\t\\tYES\\tUNKNOWN\\t...\\t134\\t44\\tP05S04\\n',\n",
       " 'RUN\\t4ML_10mm_2ND STAGE\\tL127255_2\\t0\\tFB04581786\\t\\tYES\\tUNKNOWN\\t...\\t134\\t45\\tP06S01\\n',\n",
       " 'RUN\\t4ML_10mm_2ND STAGE\\tL77731_4\\t0\\tFB04242984\\t\\tYES\\tUNKNOWN\\t...\\t134\\t46\\tP06S02\\n',\n",
       " 'RUN\\t4ML_10mm_2ND STAGE\\tL100809_3\\t0\\tFB04242227\\t\\tYES\\tUNKNOWN\\t...\\t134\\t47\\tP06S03\\n',\n",
       " 'RUN\\t4ML_10mm_2ND STAGE\\tL22775_3\\t0\\tFB04582663\\t\\tYES\\tUNKNOWN\\t...\\t134\\t48\\tP06S04\\n',\n",
       " 'RUN\\t4ML_10mm_2ND STAGE_FLUSH\\tFlush\\t0\\t\\t\\tYES\\tUNKNOWN\\t...\\t\\t0\\t\\n',\n",
       " 'RUN\\t4ML_10mm_2ND STAGE_STD\\t6-Cmpd Std\\t0\\t\\t\\tYES\\tUNKNOWN\\t...\\t\\t0\\t\\n',\n",
       " 'RUN\\t4ML_10mm_2ND STAGE_FLUSH\\tSample\\t0\\tFlush\\t\\tYES\\tUNKNOWN\\t...\\t\\t0\\n',\n",
       " 'RUN\\t4ML_10mm_2ND STAGE_STD\\t6-Cmpd Std\\t0\\t6-Cmpd Std\\t\\tYES\\tUNKNOWN\\t...\\t\\t0\\n',\n",
       " 'RUN\\t4 ML SHUTDOWN\\tSample\\t0\\tSHUTDOWN\\t\\tYES\\tUNKNOWN\\t...\\t\\t0\\n']"
      ]
     },
     "execution_count": 68,
     "metadata": {},
     "output_type": "execute_result"
    }
   ],
   "source": [
    "new_tsl"
   ]
  },
  {
   "cell_type": "code",
   "execution_count": 19,
   "metadata": {},
   "outputs": [
    {
     "data": {
      "text/plain": [
       "{1: ['P01S01', 'P07S01'],\n",
       " 2: ['P01S02', 'P07S02'],\n",
       " 3: ['P01S03', 'P07S03'],\n",
       " 4: ['P01S04', 'P07S04'],\n",
       " 5: ['P02S01', 'P08S01'],\n",
       " 6: ['P02S02', 'P08S02'],\n",
       " 7: ['P02S03', 'P08S03'],\n",
       " 8: ['P02S04', 'P08S04'],\n",
       " 9: ['P03S01', 'P09S01'],\n",
       " 10: ['P03S02', 'P09S02'],\n",
       " 11: ['P03S03', 'P09S03'],\n",
       " 12: ['P03S04', 'P09S04'],\n",
       " 13: ['P04S01', 'P10S01'],\n",
       " 14: ['P04S02', 'P10S02'],\n",
       " 15: ['P04S03', 'P10S03'],\n",
       " 16: ['P04S04', 'P10S04'],\n",
       " 17: ['P05S01', 'P11S01'],\n",
       " 18: ['P05S02', 'P11S02'],\n",
       " 19: ['P05S03', 'P11S03'],\n",
       " 20: ['P05S04', 'P11S04'],\n",
       " 21: ['P06S01', 'P12S01'],\n",
       " 22: ['P06S02', 'P12S02'],\n",
       " 23: ['P06S03', 'P12S03'],\n",
       " 24: ['P06S04', 'P12S04']}"
      ]
     },
     "execution_count": 19,
     "metadata": {},
     "output_type": "execute_result"
    }
   ],
   "source": [
    "gilson_plate_loc_dict"
   ]
  },
  {
   "cell_type": "code",
   "execution_count": 22,
   "metadata": {},
   "outputs": [
    {
     "data": {
      "text/plain": [
       "['SkipPause[True,18,0]\\tMethodName[True,239,1]\\tSampleName[True,108,2]\\tSampleAmount[False,78,3]\\tSampleDescription[False,120,4]\\tSampleId[False,90,5]\\tInjectionYesNo[False,72,6]\\tPeakInformation[False,104,7]\\tSampleInjection[False,138,8]\\tNOTES_STRING[False,68,9]\\t#Sample Well[True,109,10]\\t#Plate_Sample[True,115,13]\\n',\n",
       " '\\n',\n",
       " 'RUN\\t4 ML STARTUP\\tSample\\t0\\t\\t\\tYES\\tUNKNOWN\\t...\\t\\t0\\t\\n',\n",
       " 'RUN\\t4ML_10mm_2ND STAGE_FLUSH\\tFlush\\t0\\t\\t\\tYES\\tUNKNOWN\\t...\\t\\t0\\t\\n',\n",
       " 'RUN\\t4ML_10mm_2ND STAGE_STD\\t6-Cmpd Std\\t0\\t\\t\\tYES\\tUNKNOWN\\t...\\t\\t0\\t\\n',\n",
       " 'RUN\\t4ML_10mm_2ND STAGE\\tL124225_6\\t0\\tFB04585932\\t\\tYES\\tUNKNOWN\\t...\\t15191100010\\t1\\tP01S01\\n',\n",
       " 'RUN\\t4ML_10mm_2ND STAGE\\tL124321_6\\t0\\tFB04576793\\t\\tYES\\tUNKNOWN\\t...\\t15191100010\\t2\\tP01S02\\n',\n",
       " 'RUN\\t4ML_10mm_2ND STAGE\\tL14455_7\\t0\\tFB04590124\\t\\tYES\\tUNKNOWN\\t...\\t15191100010\\t3\\tP01S03\\n',\n",
       " 'RUN\\t4ML_10mm_2ND STAGE\\tL96911_7\\t0\\tFB04190034\\t\\tYES\\tUNKNOWN\\t...\\t15191100010\\t4\\tP01S04\\n',\n",
       " 'RUN\\t4ML_10mm_2ND STAGE\\tL124331_6\\t0\\tFB04576740\\t\\tYES\\tUNKNOWN\\t...\\t15191100010\\t5\\tP02S01\\n',\n",
       " 'RUN\\t4ML_10mm_2ND STAGE\\tL37757_4\\t0\\tFB04246454\\t\\tYES\\tUNKNOWN\\t...\\t15191100010\\t6\\tP02S02\\n',\n",
       " 'RUN\\t4ML_10mm_2ND STAGE\\tL131701_6\\t0\\tFB05071019\\t\\tYES\\tUNKNOWN\\t...\\t15191100010\\t7\\tP02S03\\n',\n",
       " 'RUN\\t4ML_10mm_2ND STAGE\\tL131795_6\\t0\\tFB04584429\\t\\tYES\\tUNKNOWN\\t...\\t15191100010\\t8\\tP02S04\\n',\n",
       " 'RUN\\t4ML_10mm_2ND STAGE_FLUSH\\tFlush\\t0\\t\\t\\tYES\\tUNKNOWN\\t...\\t\\t0\\t\\n',\n",
       " 'RUN\\t4ML_10mm_2ND STAGE_STD\\t6-Cmpd Std\\t0\\t\\t\\tYES\\tUNKNOWN\\t...\\t\\t0\\t\\n',\n",
       " 'RUN\\t4ML_10mm_2ND STAGE\\tL125181_7\\t0\\tFB04613570\\t\\tYES\\tUNKNOWN\\t...\\t15191100010\\t9\\tP03S01\\n',\n",
       " 'RUN\\t4ML_10mm_2ND STAGE\\tL125045_6\\t0\\tFB04614260\\t\\tYES\\tUNKNOWN\\t...\\t15191100010\\t10\\tP03S02\\n',\n",
       " 'RUN\\t4ML_10mm_2ND STAGE\\tL125053_6\\t0\\tFB04614381\\t\\tYES\\tUNKNOWN\\t...\\t15191100010\\t11\\tP03S03\\n',\n",
       " 'RUN\\t4ML_10mm_2ND STAGE\\tL37265_6\\t0\\tFB04078293\\t\\tYES\\tUNKNOWN\\t...\\t15191100010\\t12\\tP03S04\\n',\n",
       " 'RUN\\t4ML_10mm_2ND STAGE\\tL106053_6\\t0\\tFB04595523\\t\\tYES\\tUNKNOWN\\t...\\t15191100010\\t13\\tP04S01\\n',\n",
       " 'RUN\\t4ML_10mm_2ND STAGE\\tL106083_6\\t0\\tFB04595528\\t\\tYES\\tUNKNOWN\\t...\\t15191100010\\t14\\tP04S02\\n',\n",
       " 'RUN\\t4ML_10mm_2ND STAGE\\tL106057_6\\t0\\tFB04595514\\t\\tYES\\tUNKNOWN\\t...\\t15191100010\\t15\\tP04S03\\n',\n",
       " 'RUN\\t4ML_10mm_2ND STAGE\\tL106115_6\\t0\\tFB04595524\\t\\tYES\\tUNKNOWN\\t...\\t15191100010\\t16\\tP04S04\\n',\n",
       " 'RUN\\t4ML_10mm_2ND STAGE_FLUSH\\tFlush\\t0\\t\\t\\tYES\\tUNKNOWN\\t...\\t\\t0\\t\\n',\n",
       " 'RUN\\t4ML_10mm_2ND STAGE_STD\\t6-Cmpd Std\\t0\\t\\t\\tYES\\tUNKNOWN\\t...\\t\\t0\\t\\n',\n",
       " 'RUN\\t4ML_10mm_2ND STAGE\\tL105993_6\\t0\\tFB04595709\\t\\tYES\\tUNKNOWN\\t...\\t15191100010\\t17\\tP05S01\\n',\n",
       " 'RUN\\t4ML_10mm_2ND STAGE\\tL106065_6\\t0\\tFB04595534\\t\\tYES\\tUNKNOWN\\t...\\t15191100010\\t18\\tP05S02\\n',\n",
       " 'RUN\\t4ML_10mm_2ND STAGE\\tL92791_6\\t0\\tFB03117035\\t\\tYES\\tUNKNOWN\\t...\\t15191100010\\t19\\tP05S03\\n',\n",
       " 'RUN\\t4ML_10mm_2ND STAGE\\tL76481_7\\t0\\tFB04245691\\t\\tYES\\tUNKNOWN\\t...\\t15191100010\\t20\\tP05S04\\n',\n",
       " 'RUN\\t4ML_10mm_2ND STAGE\\tL76413_6\\t0\\tFB04246096\\t\\tYES\\tUNKNOWN\\t...\\t15191100010\\t21\\tP06S01\\n',\n",
       " 'RUN\\t4ML_10mm_2ND STAGE\\tL98409_6\\t0\\tFB04590992\\t\\tYES\\tUNKNOWN\\t...\\t15191100010\\t22\\tP06S02\\n',\n",
       " 'RUN\\t4ML_10mm_2ND STAGE\\tL91999_6\\t0\\tFB04586497\\t\\tYES\\tUNKNOWN\\t...\\t15191100010\\t23\\tP06S03\\n',\n",
       " 'RUN\\t4ML_10mm_2ND STAGE\\tL33203_5\\t0\\tFB04240981\\t\\tYES\\tUNKNOWN\\t...\\t15191100010\\t24\\tP06S04\\n',\n",
       " 'RUN\\t4ML_10mm_2ND STAGE_FLUSH\\tFlush\\t0\\t\\t\\tYES\\tUNKNOWN\\t...\\t\\t0\\t\\n',\n",
       " 'RUN\\t4ML_10mm_2ND STAGE_STD\\t6-Cmpd Std\\t0\\t\\t\\tYES\\tUNKNOWN\\t...\\t\\t0\\t\\n',\n",
       " 'RUN\\t4ML_10mm_2ND STAGE\\tL126631_6\\t0\\tFB04594428\\t\\tYES\\tUNKNOWN\\t...\\t15191100020\\t25\\tP07S01\\n',\n",
       " 'RUN\\t4ML_10mm_2ND STAGE\\tL129525_6\\t0\\tFB04587339\\t\\tYES\\tUNKNOWN\\t...\\t15191100020\\t26\\tP07S02\\n',\n",
       " 'RUN\\t4ML_10mm_2ND STAGE\\tL129575_6\\t0\\tFB04716251\\t\\tYES\\tUNKNOWN\\t...\\t15191100020\\t27\\tP07S03\\n',\n",
       " 'RUN\\t4ML_10mm_2ND STAGE\\tL22855_6\\t0\\tFB04575204\\t\\tYES\\tUNKNOWN\\t...\\t15191100020\\t28\\tP07S04\\n',\n",
       " 'RUN\\t4ML_10mm_2ND STAGE\\tL46859_5\\t0\\tFB04251201\\t\\tYES\\tUNKNOWN\\t...\\t15191100020\\t29\\tP08S01\\n',\n",
       " 'RUN\\t4ML_10mm_2ND STAGE\\tL48635_7\\t0\\tFB04248753\\t\\tYES\\tUNKNOWN\\t...\\t15191100020\\t30\\tP08S02\\n',\n",
       " 'RUN\\t4ML_10mm_2ND STAGE\\tL48643_7\\t0\\tFB04248756\\t\\tYES\\tUNKNOWN\\t...\\t15191100020\\t31\\tP08S03\\n',\n",
       " 'RUN\\t4ML_10mm_2ND STAGE\\tL48681_5\\t0\\tFB04251203\\t\\tYES\\tUNKNOWN\\t...\\t15191100020\\t32\\tP08S04\\n',\n",
       " 'RUN\\t4ML_10mm_2ND STAGE_FLUSH\\tFlush\\t0\\t\\t\\tYES\\tUNKNOWN\\t...\\t\\t0\\t\\n',\n",
       " 'RUN\\t4ML_10mm_2ND STAGE_STD\\t6-Cmpd Std\\t0\\t\\t\\tYES\\tUNKNOWN\\t...\\t\\t0\\t\\n',\n",
       " 'RUN\\t4ML_10mm_2ND STAGE\\tL46857_6\\t0\\tFB04248577\\t\\tYES\\tUNKNOWN\\t...\\t15191100020\\t33\\tP09S01\\n',\n",
       " 'RUN\\t4ML_10mm_2ND STAGE\\tL48741_6\\t0\\tFB04248390\\t\\tYES\\tUNKNOWN\\t...\\t15191100020\\t34\\tP09S02\\n',\n",
       " 'RUN\\t4ML_10mm_2ND STAGE\\tL48781_7\\t0\\tFB04250855\\t\\tYES\\tUNKNOWN\\t...\\t15191100020\\t35\\tP09S03\\n',\n",
       " 'RUN\\t4ML_10mm_2ND STAGE\\tL48815_7\\t0\\tFB04250823\\t\\tYES\\tUNKNOWN\\t...\\t15191100020\\t36\\tP09S04\\n',\n",
       " 'RUN\\t4ML_10mm_2ND STAGE\\tL48767_7\\t0\\tFB04248853\\t\\tYES\\tUNKNOWN\\t...\\t15191100020\\t37\\tP10S01\\n',\n",
       " 'RUN\\t4ML_10mm_2ND STAGE\\tL48809_5\\t0\\tFB04251130\\t\\tYES\\tUNKNOWN\\t...\\t15191100020\\t38\\tP10S02\\n',\n",
       " 'RUN\\t4ML_10mm_2ND STAGE\\tL48807_5\\t0\\tFB04251146\\t\\tYES\\tUNKNOWN\\t...\\t15191100020\\t39\\tP10S03\\n',\n",
       " 'RUN\\t4ML_10mm_2ND STAGE\\tL32151_5\\t0\\tFB04237365\\t\\tYES\\tUNKNOWN\\t...\\t15191100020\\t40\\tP10S04\\n',\n",
       " 'RUN\\t4ML_10mm_2ND STAGE_FLUSH\\tFlush\\t0\\t\\t\\tYES\\tUNKNOWN\\t...\\t\\t0\\t\\n',\n",
       " 'RUN\\t4ML_10mm_2ND STAGE_STD\\t6-Cmpd Std\\t0\\t\\t\\tYES\\tUNKNOWN\\t...\\t\\t0\\t\\n',\n",
       " 'RUN\\t4ML_10mm_2ND STAGE\\tL81251_7\\t0\\tFB04230441\\t\\tYES\\tUNKNOWN\\t...\\t15191100020\\t41\\tP11S01\\n',\n",
       " 'RUN\\t4ML_10mm_2ND STAGE\\tL81257_7\\t0\\tFB04230579\\t\\tYES\\tUNKNOWN\\t...\\t15191100020\\t42\\tP11S02\\n',\n",
       " 'RUN\\t4ML_10mm_2ND STAGE\\tL99277_7\\t0\\tFB04242223\\t\\tYES\\tUNKNOWN\\t...\\t15191100020\\t43\\tP11S03\\n',\n",
       " 'RUN\\t4ML_10mm_2ND STAGE\\tL76475_5\\t0\\tFB04235109\\t\\tYES\\tUNKNOWN\\t...\\t15191100020\\t44\\tP11S04\\n',\n",
       " 'RUN\\t4ML_10mm_2ND STAGE\\tL50681_7\\t0\\tFB04583173\\t\\tYES\\tUNKNOWN\\t...\\t15191100020\\t45\\tP12S01\\n',\n",
       " 'RUN\\t4ML_10mm_2ND STAGE\\tL50583_7\\t0\\tFB04582820\\t\\tYES\\tUNKNOWN\\t...\\t15191100020\\t46\\tP12S02\\n',\n",
       " 'RUN\\t4ML_10mm_2ND STAGE\\tL77355_6\\t0\\tFB04363141\\t\\tYES\\tUNKNOWN\\t...\\t15191100020\\t47\\tP12S03\\n',\n",
       " 'RUN\\t4ML_10mm_2ND STAGE\\tL77349_5\\t0\\tFB04362984\\t\\tYES\\tUNKNOWN\\t...\\t15191100020\\t48\\tP12S04\\n',\n",
       " 'RUN\\t4ML_10mm_2ND STAGE_FLUSH\\tFlush\\t0\\t\\t\\tYES\\tUNKNOWN\\t...\\t\\t0\\t\\n',\n",
       " 'RUN\\t4ML_10mm_2ND STAGE_STD\\t6-Cmpd Std\\t0\\t\\t\\tYES\\tUNKNOWN\\t...\\t\\t0\\t\\n',\n",
       " 'RUN\\t4ML_10mm_2ND STAGE_FLUSH\\tSample\\t0\\tFlush\\t\\tYES\\tUNKNOWN\\t...\\t\\t0\\n',\n",
       " 'RUN\\t4ML_10mm_2ND STAGE_STD\\t6-Cmpd Std\\t0\\t6-Cmpd Std\\t\\tYES\\tUNKNOWN\\t...\\t\\t0\\n',\n",
       " 'RUN\\t4 ML SHUTDOWN\\tSample\\t0\\tSHUTDOWN\\t\\tYES\\tUNKNOWN\\t...\\t\\t0\\n']"
      ]
     },
     "execution_count": 22,
     "metadata": {},
     "output_type": "execute_result"
    }
   ],
   "source": [
    "new_tsl"
   ]
  },
  {
   "cell_type": "code",
   "execution_count": 7,
   "metadata": {},
   "outputs": [],
   "source": [
    "import pandas as pd\n",
    "pd.options.display.max_rows = 4000"
   ]
  },
  {
   "cell_type": "code",
   "execution_count": 10,
   "metadata": {
    "scrolled": true
   },
   "outputs": [],
   "source": [
    "#fp = '/Users/trinhsk/Documents/pythonScripts/tsl_files/'\n",
    "shrd_dr = '/Volumes/npsg/tecan/SourceData/SecondStage/'\n",
    "def showpd(tsl_file):\n",
    "    df = pd.read_csv(f\"{shrd_dr}{tsl_file}.tsl\", sep='\\t')\n",
    "    df = df[['#Sample Well[True,109,10]','#Plate_Sample[True,115,13]']]\n",
    "    return df"
   ]
  },
  {
   "cell_type": "code",
   "execution_count": 11,
   "metadata": {},
   "outputs": [
    {
     "data": {
      "text/html": [
       "<div>\n",
       "<style scoped>\n",
       "    .dataframe tbody tr th:only-of-type {\n",
       "        vertical-align: middle;\n",
       "    }\n",
       "\n",
       "    .dataframe tbody tr th {\n",
       "        vertical-align: top;\n",
       "    }\n",
       "\n",
       "    .dataframe thead th {\n",
       "        text-align: right;\n",
       "    }\n",
       "</style>\n",
       "<table border=\"1\" class=\"dataframe\">\n",
       "  <thead>\n",
       "    <tr style=\"text-align: right;\">\n",
       "      <th></th>\n",
       "      <th>#Sample Well[True,109,10]</th>\n",
       "      <th>#Plate_Sample[True,115,13]</th>\n",
       "    </tr>\n",
       "  </thead>\n",
       "  <tbody>\n",
       "    <tr>\n",
       "      <th>0</th>\n",
       "      <td>0</td>\n",
       "      <td>NaN</td>\n",
       "    </tr>\n",
       "    <tr>\n",
       "      <th>1</th>\n",
       "      <td>0</td>\n",
       "      <td>NaN</td>\n",
       "    </tr>\n",
       "    <tr>\n",
       "      <th>2</th>\n",
       "      <td>0</td>\n",
       "      <td>NaN</td>\n",
       "    </tr>\n",
       "    <tr>\n",
       "      <th>3</th>\n",
       "      <td>1</td>\n",
       "      <td>P01S01</td>\n",
       "    </tr>\n",
       "    <tr>\n",
       "      <th>4</th>\n",
       "      <td>2</td>\n",
       "      <td>P01S02</td>\n",
       "    </tr>\n",
       "    <tr>\n",
       "      <th>5</th>\n",
       "      <td>3</td>\n",
       "      <td>P01S03</td>\n",
       "    </tr>\n",
       "    <tr>\n",
       "      <th>6</th>\n",
       "      <td>4</td>\n",
       "      <td>P01S04</td>\n",
       "    </tr>\n",
       "    <tr>\n",
       "      <th>7</th>\n",
       "      <td>5</td>\n",
       "      <td>P02S01</td>\n",
       "    </tr>\n",
       "    <tr>\n",
       "      <th>8</th>\n",
       "      <td>6</td>\n",
       "      <td>P02S02</td>\n",
       "    </tr>\n",
       "    <tr>\n",
       "      <th>9</th>\n",
       "      <td>7</td>\n",
       "      <td>P02S03</td>\n",
       "    </tr>\n",
       "    <tr>\n",
       "      <th>10</th>\n",
       "      <td>8</td>\n",
       "      <td>P02S04</td>\n",
       "    </tr>\n",
       "    <tr>\n",
       "      <th>11</th>\n",
       "      <td>0</td>\n",
       "      <td>NaN</td>\n",
       "    </tr>\n",
       "    <tr>\n",
       "      <th>12</th>\n",
       "      <td>0</td>\n",
       "      <td>NaN</td>\n",
       "    </tr>\n",
       "    <tr>\n",
       "      <th>13</th>\n",
       "      <td>9</td>\n",
       "      <td>P03S01</td>\n",
       "    </tr>\n",
       "    <tr>\n",
       "      <th>14</th>\n",
       "      <td>10</td>\n",
       "      <td>P03S02</td>\n",
       "    </tr>\n",
       "    <tr>\n",
       "      <th>15</th>\n",
       "      <td>11</td>\n",
       "      <td>P03S03</td>\n",
       "    </tr>\n",
       "    <tr>\n",
       "      <th>16</th>\n",
       "      <td>12</td>\n",
       "      <td>P03S04</td>\n",
       "    </tr>\n",
       "    <tr>\n",
       "      <th>17</th>\n",
       "      <td>13</td>\n",
       "      <td>P04S01</td>\n",
       "    </tr>\n",
       "    <tr>\n",
       "      <th>18</th>\n",
       "      <td>14</td>\n",
       "      <td>P04S02</td>\n",
       "    </tr>\n",
       "    <tr>\n",
       "      <th>19</th>\n",
       "      <td>17</td>\n",
       "      <td>P05S01</td>\n",
       "    </tr>\n",
       "    <tr>\n",
       "      <th>20</th>\n",
       "      <td>18</td>\n",
       "      <td>P05S02</td>\n",
       "    </tr>\n",
       "    <tr>\n",
       "      <th>21</th>\n",
       "      <td>19</td>\n",
       "      <td>P05S03</td>\n",
       "    </tr>\n",
       "    <tr>\n",
       "      <th>22</th>\n",
       "      <td>20</td>\n",
       "      <td>P05S04</td>\n",
       "    </tr>\n",
       "    <tr>\n",
       "      <th>23</th>\n",
       "      <td>21</td>\n",
       "      <td>P06S01</td>\n",
       "    </tr>\n",
       "    <tr>\n",
       "      <th>24</th>\n",
       "      <td>22</td>\n",
       "      <td>P06S02</td>\n",
       "    </tr>\n",
       "    <tr>\n",
       "      <th>25</th>\n",
       "      <td>23</td>\n",
       "      <td>P06S03</td>\n",
       "    </tr>\n",
       "    <tr>\n",
       "      <th>26</th>\n",
       "      <td>24</td>\n",
       "      <td>P06S04</td>\n",
       "    </tr>\n",
       "    <tr>\n",
       "      <th>27</th>\n",
       "      <td>0</td>\n",
       "      <td>NaN</td>\n",
       "    </tr>\n",
       "    <tr>\n",
       "      <th>28</th>\n",
       "      <td>0</td>\n",
       "      <td>NaN</td>\n",
       "    </tr>\n",
       "    <tr>\n",
       "      <th>29</th>\n",
       "      <td>25</td>\n",
       "      <td>P07S01</td>\n",
       "    </tr>\n",
       "    <tr>\n",
       "      <th>30</th>\n",
       "      <td>26</td>\n",
       "      <td>P07S02</td>\n",
       "    </tr>\n",
       "    <tr>\n",
       "      <th>31</th>\n",
       "      <td>27</td>\n",
       "      <td>P07S03</td>\n",
       "    </tr>\n",
       "    <tr>\n",
       "      <th>32</th>\n",
       "      <td>28</td>\n",
       "      <td>P07S04</td>\n",
       "    </tr>\n",
       "    <tr>\n",
       "      <th>33</th>\n",
       "      <td>29</td>\n",
       "      <td>P08S01</td>\n",
       "    </tr>\n",
       "    <tr>\n",
       "      <th>34</th>\n",
       "      <td>30</td>\n",
       "      <td>P08S02</td>\n",
       "    </tr>\n",
       "    <tr>\n",
       "      <th>35</th>\n",
       "      <td>31</td>\n",
       "      <td>P08S03</td>\n",
       "    </tr>\n",
       "    <tr>\n",
       "      <th>36</th>\n",
       "      <td>32</td>\n",
       "      <td>P08S04</td>\n",
       "    </tr>\n",
       "    <tr>\n",
       "      <th>37</th>\n",
       "      <td>0</td>\n",
       "      <td>NaN</td>\n",
       "    </tr>\n",
       "    <tr>\n",
       "      <th>38</th>\n",
       "      <td>0</td>\n",
       "      <td>NaN</td>\n",
       "    </tr>\n",
       "    <tr>\n",
       "      <th>39</th>\n",
       "      <td>33</td>\n",
       "      <td>P09S01</td>\n",
       "    </tr>\n",
       "    <tr>\n",
       "      <th>40</th>\n",
       "      <td>34</td>\n",
       "      <td>P09S02</td>\n",
       "    </tr>\n",
       "    <tr>\n",
       "      <th>41</th>\n",
       "      <td>35</td>\n",
       "      <td>P09S03</td>\n",
       "    </tr>\n",
       "    <tr>\n",
       "      <th>42</th>\n",
       "      <td>36</td>\n",
       "      <td>P09S04</td>\n",
       "    </tr>\n",
       "    <tr>\n",
       "      <th>43</th>\n",
       "      <td>37</td>\n",
       "      <td>P10S01</td>\n",
       "    </tr>\n",
       "    <tr>\n",
       "      <th>44</th>\n",
       "      <td>38</td>\n",
       "      <td>P10S02</td>\n",
       "    </tr>\n",
       "    <tr>\n",
       "      <th>45</th>\n",
       "      <td>39</td>\n",
       "      <td>P10S03</td>\n",
       "    </tr>\n",
       "    <tr>\n",
       "      <th>46</th>\n",
       "      <td>40</td>\n",
       "      <td>P10S04</td>\n",
       "    </tr>\n",
       "    <tr>\n",
       "      <th>47</th>\n",
       "      <td>0</td>\n",
       "      <td>NaN</td>\n",
       "    </tr>\n",
       "    <tr>\n",
       "      <th>48</th>\n",
       "      <td>0</td>\n",
       "      <td>NaN</td>\n",
       "    </tr>\n",
       "    <tr>\n",
       "      <th>49</th>\n",
       "      <td>0</td>\n",
       "      <td>NaN</td>\n",
       "    </tr>\n",
       "    <tr>\n",
       "      <th>50</th>\n",
       "      <td>0</td>\n",
       "      <td>NaN</td>\n",
       "    </tr>\n",
       "    <tr>\n",
       "      <th>51</th>\n",
       "      <td>0</td>\n",
       "      <td>NaN</td>\n",
       "    </tr>\n",
       "  </tbody>\n",
       "</table>\n",
       "</div>"
      ],
      "text/plain": [
       "    #Sample Well[True,109,10] #Plate_Sample[True,115,13]\n",
       "0                           0                        NaN\n",
       "1                           0                        NaN\n",
       "2                           0                        NaN\n",
       "3                           1                     P01S01\n",
       "4                           2                     P01S02\n",
       "5                           3                     P01S03\n",
       "6                           4                     P01S04\n",
       "7                           5                     P02S01\n",
       "8                           6                     P02S02\n",
       "9                           7                     P02S03\n",
       "10                          8                     P02S04\n",
       "11                          0                        NaN\n",
       "12                          0                        NaN\n",
       "13                          9                     P03S01\n",
       "14                         10                     P03S02\n",
       "15                         11                     P03S03\n",
       "16                         12                     P03S04\n",
       "17                         13                     P04S01\n",
       "18                         14                     P04S02\n",
       "19                         17                     P05S01\n",
       "20                         18                     P05S02\n",
       "21                         19                     P05S03\n",
       "22                         20                     P05S04\n",
       "23                         21                     P06S01\n",
       "24                         22                     P06S02\n",
       "25                         23                     P06S03\n",
       "26                         24                     P06S04\n",
       "27                          0                        NaN\n",
       "28                          0                        NaN\n",
       "29                         25                     P07S01\n",
       "30                         26                     P07S02\n",
       "31                         27                     P07S03\n",
       "32                         28                     P07S04\n",
       "33                         29                     P08S01\n",
       "34                         30                     P08S02\n",
       "35                         31                     P08S03\n",
       "36                         32                     P08S04\n",
       "37                          0                        NaN\n",
       "38                          0                        NaN\n",
       "39                         33                     P09S01\n",
       "40                         34                     P09S02\n",
       "41                         35                     P09S03\n",
       "42                         36                     P09S04\n",
       "43                         37                     P10S01\n",
       "44                         38                     P10S02\n",
       "45                         39                     P10S03\n",
       "46                         40                     P10S04\n",
       "47                          0                        NaN\n",
       "48                          0                        NaN\n",
       "49                          0                        NaN\n",
       "50                          0                        NaN\n",
       "51                          0                        NaN"
      ]
     },
     "execution_count": 11,
     "metadata": {},
     "output_type": "execute_result"
    }
   ],
   "source": [
    "showpd('15200600_01_02_15200600010_15200600020')\n"
   ]
  },
  {
   "cell_type": "code",
   "execution_count": 33,
   "metadata": {},
   "outputs": [],
   "source": [
    "def init_start_nums(file1):\n",
    "    str_start_sample_pos = re.search('\\t(?![0])\\d{1,2}\\t', file1[len(file1)-4]).group(0)\n",
    "    int_start_sample_pos = int(str_start_sample_pos)\n",
    "    if int_start_sample_pos % 4 != 0:\n",
    "        int_start_sample_pos = int_start_sample_pos + (int_start_sample_pos % 4)\n",
    "    str_start_plt_loc = re.search('\\tP\\d{1,2}S', file1[len(file1)-4]).group(0)\n",
    "    int_start_plt_loc = int(str_start_plt_loc[2:len(str_start_plt_loc)-1])\n",
    "    return int_start_sample_pos, int_start_plt_loc\n"
   ]
  },
  {
   "cell_type": "code",
   "execution_count": 1,
   "metadata": {},
   "outputs": [
    {
     "data": {
      "text/plain": [
       "2"
      ]
     },
     "execution_count": 1,
     "metadata": {},
     "output_type": "execute_result"
    }
   ],
   "source": [
    "14 % 4 "
   ]
  },
  {
   "cell_type": "code",
   "execution_count": 34,
   "metadata": {},
   "outputs": [],
   "source": [
    "def replace_tsl_values_2(tsl, plt_start):\n",
    "    new_tsl = tsl.copy()\n",
    "    line_cnt = 1\n",
    "    plt_start += 1\n",
    "    for i,line in enumerate(new_tsl):\n",
    "        if 'FLUSH' in line or 'STD' in line or 'SHUTDOWN' in line:\n",
    "            pass\n",
    "        else:\n",
    "            well_loc = 4 if line_cnt % 4 == 0 else line_cnt % 4\n",
    "                       \n",
    "\n",
    "            if plt_start > 9:\n",
    "                padding = \"\"\n",
    "            else:\n",
    "                padding = \"0\"    \n",
    "\n",
    "            str_plt_well = re.search('\\tP\\d{2}S\\d{2}\\n', line).group(0)\n",
    "            new_tsl[i] = line.replace(str_plt_well,f\"\\tP{padding}{plt_start}S0{well_loc}\\n\")\n",
    "\n",
    "            if line_cnt % 4 == 0:\n",
    "                plt_start += 1 \n",
    "                \n",
    "            line_cnt += 1\n",
    "    return new_tsl"
   ]
  },
  {
   "cell_type": "code",
   "execution_count": 37,
   "metadata": {},
   "outputs": [
    {
     "data": {
      "text/plain": [
       "['SkipPause[True,18,0]\\tMethodName[True,239,1]\\tSampleName[True,108,2]\\tSampleAmount[False,78,3]\\tSampleDescription[False,120,4]\\tSampleId[False,90,5]\\tInjectionYesNo[False,72,6]\\tPeakInformation[False,104,7]\\tSampleInjection[False,138,8]\\tNOTES_STRING[False,68,9]\\t#Sample Well[True,109,10]\\t#Plate_Sample[True,115,13]\\n',\n",
       " '\\n',\n",
       " 'RUN\\t4 ML STARTUP\\tSample\\t0\\t\\t\\tYES\\tUNKNOWN\\t...\\t\\t0\\t\\n',\n",
       " 'RUN\\t4ML_10mm_2ND STAGE_FLUSH\\tFlush\\t0\\t\\t\\tYES\\tUNKNOWN\\t...\\t\\t0\\t\\n',\n",
       " 'RUN\\t4ML_10mm_2ND STAGE_STD\\t6-Cmpd Std\\t0\\t\\t\\tYES\\tUNKNOWN\\t...\\t\\t0\\t\\n',\n",
       " 'RUN\\t4ML_10mm_2ND STAGE\\tL129525_6\\t0\\tFB04587339\\t\\tYES\\tUNKNOWN\\t...\\t15200600010\\t1\\tP01S01\\n',\n",
       " 'RUN\\t4ML_10mm_2ND STAGE\\tL48809_5\\t0\\tFB04251130\\t\\tYES\\tUNKNOWN\\t...\\t15200600010\\t2\\tP01S02\\n',\n",
       " 'RUN\\t4ML_10mm_2ND STAGE\\tL129575_6\\t0\\tFB04716251\\t\\tYES\\tUNKNOWN\\t...\\t15200600010\\t3\\tP01S03\\n',\n",
       " 'RUN\\t4ML_10mm_2ND STAGE\\tL48781_7\\t0\\tFB04250855\\t\\tYES\\tUNKNOWN\\t...\\t15200600010\\t4\\tP01S04\\n',\n",
       " 'RUN\\t4ML_10mm_2ND STAGE\\tL99277_7\\t0\\tFB04242223\\t\\tYES\\tUNKNOWN\\t...\\t15200600010\\t5\\tP02S01\\n',\n",
       " 'RUN\\t4ML_10mm_2ND STAGE\\tL77355_6\\t0\\tFB04363141\\t\\tYES\\tUNKNOWN\\t...\\t15200600010\\t6\\tP02S02\\n',\n",
       " 'RUN\\t4ML_10mm_2ND STAGE\\tL22855_6\\t0\\tFB04575204\\t\\tYES\\tUNKNOWN\\t...\\t15200600010\\t7\\tP02S03\\n',\n",
       " 'RUN\\t4ML_10mm_2ND STAGE\\tL77349_5\\t0\\tFB04362984\\t\\tYES\\tUNKNOWN\\t...\\t15200600010\\t8\\tP02S04\\n',\n",
       " 'RUN\\t4ML_10mm_2ND STAGE_FLUSH\\tFlush\\t0\\t\\t\\tYES\\tUNKNOWN\\t...\\t\\t0\\t\\n',\n",
       " 'RUN\\t4ML_10mm_2ND STAGE_STD\\t6-Cmpd Std\\t0\\t\\t\\tYES\\tUNKNOWN\\t...\\t\\t0\\t\\n',\n",
       " 'RUN\\t4ML_10mm_2ND STAGE\\tL125181_7\\t0\\tFB04613570\\t\\tYES\\tUNKNOWN\\t...\\t15200600010\\t9\\tP03S01\\n',\n",
       " 'RUN\\t4ML_10mm_2ND STAGE\\tL92791_6\\t0\\tFB03117035\\t\\tYES\\tUNKNOWN\\t...\\t15200600010\\t10\\tP03S02\\n',\n",
       " 'RUN\\t4ML_10mm_2ND STAGE\\tL91999_6\\t0\\tFB04586497\\t\\tYES\\tUNKNOWN\\t...\\t15200600010\\t11\\tP03S03\\n',\n",
       " 'RUN\\t4ML_10mm_2ND STAGE\\tL96911_7\\t0\\tFB04190034\\t\\tYES\\tUNKNOWN\\t...\\t15200600010\\t12\\tP03S04\\n',\n",
       " 'RUN\\t4ML_10mm_2ND STAGE\\tL37265_6\\t0\\tFB04078293\\t\\tYES\\tUNKNOWN\\t...\\t15200600010\\t13\\tP04S01\\n',\n",
       " 'RUN\\t4ML_10mm_2ND STAGE\\tL106115_6\\t0\\tFB04595524\\t\\tYES\\tUNKNOWN\\t...\\t15200600010\\t14\\tP04S02\\n',\n",
       " 'RUN\\t4ML_10mm_2ND STAGE\\tL93279_7\\t0\\tFB04198483\\t\\tYES\\tUNKNOWN\\t...\\t15200600020\\t15\\tP05S01\\n',\n",
       " 'RUN\\t4ML_10mm_2ND STAGE\\tL40831_5\\t0\\tFB03754623\\t\\tYES\\tUNKNOWN\\t...\\t15200600020\\t16\\tP05S02\\n',\n",
       " 'RUN\\t4ML_10mm_2ND STAGE\\tL82787_3\\t0\\tFB04283871\\t\\tYES\\tUNKNOWN\\t...\\t15200600020\\t17\\tP05S03\\n',\n",
       " 'RUN\\t4ML_10mm_2ND STAGE\\tL18427_6\\t0\\tFB03629034\\t\\tYES\\tUNKNOWN\\t...\\t15200600020\\t18\\tP05S04\\n',\n",
       " 'RUN\\t4ML_10mm_2ND STAGE\\tL16445_2\\t0\\tFB03630959\\t\\tYES\\tUNKNOWN\\t...\\t15200600020\\t19\\tP06S01\\n',\n",
       " 'RUN\\t4ML_10mm_2ND STAGE\\tL32391_5\\t0\\tFB03754367\\t\\tYES\\tUNKNOWN\\t...\\t15200600020\\t20\\tP06S02\\n',\n",
       " 'RUN\\t4ML_10mm_2ND STAGE\\tL38685_3\\t0\\tFB04078337\\t\\tYES\\tUNKNOWN\\t...\\t15200600020\\t21\\tP06S03\\n',\n",
       " 'RUN\\t4ML_10mm_2ND STAGE\\tL94191_6\\t0\\tFB04284660\\t\\tYES\\tUNKNOWN\\t...\\t15200600020\\t22\\tP06S04\\n',\n",
       " 'RUN\\t4ML_10mm_2ND STAGE_FLUSH\\tFlush\\t0\\t\\t\\tYES\\tUNKNOWN\\t...\\t\\t0\\t\\n',\n",
       " 'RUN\\t4ML_10mm_2ND STAGE_STD\\t6-Cmpd Std\\t0\\t\\t\\tYES\\tUNKNOWN\\t...\\t\\t0\\t\\n',\n",
       " 'RUN\\t4ML_10mm_2ND STAGE\\tL3339_6\\t0\\tFB03635536\\t\\tYES\\tUNKNOWN\\t...\\t15200600020\\t23\\tP07S01\\n',\n",
       " 'RUN\\t4ML_10mm_2ND STAGE\\tL38099_7\\t0\\tFB04278427\\t\\tYES\\tUNKNOWN\\t...\\t15200600020\\t24\\tP07S02\\n',\n",
       " 'RUN\\t4ML_10mm_2ND STAGE\\tL15189_7\\t0\\tFB03628807\\t\\tYES\\tUNKNOWN\\t...\\t15200600020\\t25\\tP07S03\\n',\n",
       " 'RUN\\t4ML_10mm_2ND STAGE\\tL78981_5\\t0\\tFB04355730\\t\\tYES\\tUNKNOWN\\t...\\t15200600020\\t26\\tP07S04\\n',\n",
       " 'RUN\\t4ML_10mm_2ND STAGE\\tL40983_7\\t0\\tFB03754497\\t\\tYES\\tUNKNOWN\\t...\\t15200600020\\t27\\tP08S01\\n',\n",
       " 'RUN\\t4ML_10mm_2ND STAGE\\tL93037_2\\t0\\tFB04241809\\t\\tYES\\tUNKNOWN\\t...\\t15200600020\\t28\\tP08S02\\n',\n",
       " 'RUN\\t4ML_10mm_2ND STAGE\\tL55207_6\\t0\\tFB04363357\\t\\tYES\\tUNKNOWN\\t...\\t15200600020\\t29\\tP08S03\\n',\n",
       " 'RUN\\t4ML_10mm_2ND STAGE\\tL131469_6\\t0\\tFB04716436\\t\\tYES\\tUNKNOWN\\t...\\t15200600020\\t30\\tP08S04\\n',\n",
       " 'RUN\\t4ML_10mm_2ND STAGE_FLUSH\\tFlush\\t0\\t\\t\\tYES\\tUNKNOWN\\t...\\t\\t0\\t\\n',\n",
       " 'RUN\\t4ML_10mm_2ND STAGE_STD\\t6-Cmpd Std\\t0\\t\\t\\tYES\\tUNKNOWN\\t...\\t\\t0\\t\\n',\n",
       " 'RUN\\t4ML_10mm_2ND STAGE\\tL95325_1\\t0\\tFB01147625\\t\\tYES\\tUNKNOWN\\t...\\t15200600020\\t31\\tP09S01\\n',\n",
       " 'RUN\\t4ML_10mm_2ND STAGE\\tL13139_4\\t0\\tFA00269110\\t\\tYES\\tUNKNOWN\\t...\\t15200600020\\t32\\tP09S02\\n',\n",
       " 'RUN\\t4ML_10mm_2ND STAGE\\tL91723_5\\t0\\tFB04286329\\t\\tYES\\tUNKNOWN\\t...\\t15200600020\\t33\\tP09S03\\n',\n",
       " 'RUN\\t4ML_10mm_2ND STAGE\\tL78975_5\\t0\\tFB04355723\\t\\tYES\\tUNKNOWN\\t...\\t15200600020\\t34\\tP09S04\\n',\n",
       " 'RUN\\t4ML_10mm_2ND STAGE\\tL13131_4\\t0\\tFA00268880\\t\\tYES\\tUNKNOWN\\t...\\t15200600020\\t35\\tP10S01\\n',\n",
       " 'RUN\\t4ML_10mm_2ND STAGE\\tL46857_6\\t0\\tFB04248577\\t\\tYES\\tUNKNOWN\\t...\\t15200600020\\t36\\tP10S02\\n',\n",
       " 'RUN\\t4ML_10mm_2ND STAGE\\tL81251_7\\t0\\tFB04230441\\t\\tYES\\tUNKNOWN\\t...\\t15200600020\\t37\\tP10S03\\n',\n",
       " 'RUN\\t4ML_10mm_2ND STAGE\\tL50681_7\\t0\\tFB04583173\\t\\tYES\\tUNKNOWN\\t...\\t15200600020\\t38\\tP10S04\\n',\n",
       " 'RUN\\t4ML_10mm_2ND STAGE_FLUSH\\tFlush\\t0\\t\\t\\tYES\\tUNKNOWN\\t...\\t\\t0\\t\\n',\n",
       " 'RUN\\t4ML_10mm_2ND STAGE_STD\\t6-Cmpd Std\\t0\\t\\t\\tYES\\tUNKNOWN\\t...\\t\\t0\\t\\n',\n",
       " 'RUN\\t4ML_10mm_2ND STAGE_FLUSH\\tSample\\t0\\tFlush\\t\\tYES\\tUNKNOWN\\t...\\t\\t0\\n',\n",
       " 'RUN\\t4ML_10mm_2ND STAGE_STD\\t6-Cmpd Std\\t0\\t6-Cmpd Std\\t\\tYES\\tUNKNOWN\\t...\\t\\t0\\n',\n",
       " 'RUN\\t4 ML SHUTDOWN\\tSample\\t0\\tSHUTDOWN\\t\\tYES\\tUNKNOWN\\t...\\t\\t0\\n']"
      ]
     },
     "execution_count": 37,
     "metadata": {},
     "output_type": "execute_result"
    }
   ],
   "source": [
    "int_start_sample_num, int_start_plt_loc = init_start_nums(file1)\n",
    "top_tsl = file1[:len(file1)-3]\n",
    "bottom_tsl = replace_tsl_values(file2, int_start_sample_num)\n",
    "bottom_tsl = replace_tsl_values_2(bottom_tsl, int_start_plt_loc)\n",
    "new_tsl = top_tsl + bottom_tsl\n",
    "new_tsl"
   ]
  },
  {
   "cell_type": "code",
   "execution_count": 106,
   "metadata": {},
   "outputs": [],
   "source": [
    "def get_current_uvdata_file(uvdata_file_directory, sample_name, xml_ts):\n",
    "    '''\n",
    "         find csv file that is within the current timestamp and matches the sample name\n",
    "    '''\n",
    "    files = [fi for fi in os.listdir(uvdata_file_directory)]\n",
    "    uvdata_file_filters = [lambda x:\n",
    "                           os.path.isfile(os.path.join(uvdata_file_directory, x)), lambda x: x.endswith('.csv'), lambda x: re.search(f'{sample_name}', x)]\n",
    "    files = list(filter(lambda x: all(\n",
    "        [f(x) for f in uvdata_file_filters]), files))\n",
    "    assert files, f\"Did not find {sample_name} uv data .csv file in directory:{uvdata_file_directory}\"\n",
    "\n",
    "    if len(files) > 1:\n",
    "        for each_fi in files:\n",
    "            check_file_ts = compare_timestamp(\n",
    "                os.path.join(uvdata_file_directory, each_fi), xml_ts)\n",
    "            if check_file_ts[0]:\n",
    "                select_file = each_fi\n",
    "                print(f'check file ts: {check_file_ts[0]}; {check_file_ts[1]}')\n",
    "                break\n",
    "    else:\n",
    "        check_file_ts = compare_timestamp(\n",
    "            os.path.join(uvdata_file_directory, files[0]), xml_ts)\n",
    "        print(f'check file ts: {check_file_ts[0]}; {check_file_ts[1]}')\n",
    "        select_file = files[0]\n",
    "\n",
    "    assert check_file_ts[0] == True, \\\n",
    "        'raw uv-data file is older by {0} than the allowed timeframe; is it the correct file? - sample name:\"{1}\" questionable file: \"{2}\"'.format(\n",
    "        str(check_file_ts[1]), sample_name, select_file)\n",
    "\n",
    "    return select_file"
   ]
  },
  {
   "cell_type": "code",
   "execution_count": 1,
   "metadata": {},
   "outputs": [],
   "source": [
    "import os\n",
    "import re\n",
    "from datetime import datetime, timedelta"
   ]
  },
  {
   "cell_type": "code",
   "execution_count": 16,
   "metadata": {},
   "outputs": [],
   "source": [
    "def compare_timestamp(file_name_path, xml_ts, within_time=timedelta(minutes=10)):\n",
    "    uvdata_ts = extract_datetime(file_name_path)\n",
    "    if uvdata_ts:\n",
    "        td = xml_ts - uvdata_ts\n",
    "        print(f\"xml ts: {xml_ts} - uv ts: {uvdata_ts} / diff: {td}\")\n",
    "        if td > within_time:\n",
    "            return False, td\n",
    "        else:\n",
    "            return True, td\n",
    "    else:\n",
    "        return False, None"
   ]
  },
  {
   "cell_type": "code",
   "execution_count": 3,
   "metadata": {},
   "outputs": [],
   "source": [
    "REGEX_TIMESTAMP = r'(20\\d\\d[-](0[1-9]|1[012])[-]\\d{2})(.*)(\\d{2}-\\d{2}-\\d{2}-[PA]M)'\n",
    "\n",
    "\n",
    "def extract_datetime(datetime_string):\n",
    "    print(f'UVDATA file datetime string: {datetime_string}')\n",
    "    try:\n",
    "        dt_obj = re.search(REGEX_TIMESTAMP, datetime_string)\n",
    "        the_date = dt_obj.group(1)\n",
    "        finish_time = dt_obj.group(4)\n",
    "        return datetime.strptime(f'{the_date}_{finish_time}','%Y-%m-%d_%I-%M-%S-%p')\n",
    "    except AttributeError as e:\n",
    "        print(\n",
    "            f'problem extracting date format from uvfile string: {datetime_string} - {e}')\n",
    "        return None"
   ]
  },
  {
   "cell_type": "code",
   "execution_count": 4,
   "metadata": {},
   "outputs": [
    {
     "name": "stdout",
     "output_type": "stream",
     "text": [
      "2020-08-14_11-54-22-PM_at_12-17-57-AM\n",
      "2020-08-14\n",
      "08\n",
      "_11-54-22-PM_at_\n",
      "12-17-57-AM\n"
     ]
    }
   ],
   "source": [
    "REGEX_TIMESTAMP2 = r'(20\\d\\d[-](0[1-9]|1[012])[-]\\d{2})(.*)(\\d{2}-\\d{2}-\\d{2}-[PA]M)'\n",
    "\n",
    "for i in range(6):\n",
    "    try:\n",
    "        print(re.search(REGEX_TIMESTAMP2,'15TEST2020140814_M21535_5_(2)_2020-08-14_11-54-22-PM_at_12-17-57-AM_(4).csv').group(i))\n",
    "    except IndexError:\n",
    "        break\n",
    "          "
   ]
  },
  {
   "cell_type": "code",
   "execution_count": 18,
   "metadata": {},
   "outputs": [
    {
     "name": "stdout",
     "output_type": "stream",
     "text": [
      "UVDATA file datetime string: /Volumes/npsg/Gilson/RAW_UV_EXPORTS/15TEST2020140814_M21535_5_(2)_2020-08-14_11-54-22-PM_at_12-17-57-AM.csv\n",
      "xml ts: 2020-08-14 00:04:19 - uv ts: 2020-08-14 00:17:57 / diff: -1 day, 23:46:22\n"
     ]
    }
   ],
   "source": [
    "uvdata_file_directory = '/Volumes/npsg/Gilson/RAW_UV_EXPORTS/'\n",
    "sample_name = 'M21535_5'\n",
    "xml_ts = datetime.strptime('8/1/2020 12:04:19 AM', '%m/%d/%Y %I:%M:%S %p')\n",
    "files = [fi for fi in os.listdir(uvdata_file_directory)]\n",
    "uvdata_file_filters = [lambda x:\n",
    "                       os.path.isfile(os.path.join(uvdata_file_directory, x)), lambda x: x.endswith('.csv'), lambda x: re.search(f'{sample_name}', x)]\n",
    "files = list(filter(lambda x: all(\n",
    "    [f(x) for f in uvdata_file_filters]), files))\n",
    "assert files, f\"Did not find {sample_name} uv data .csv file in directory:{uvdata_file_directory}\"\n",
    "\n",
    "select_file = None\n",
    "if len(files) > 1:\n",
    "    for each_fi in files:\n",
    "        check_file_ts = compare_timestamp(\n",
    "            os.path.join(uvdata_file_directory, each_fi), xml_ts)\n",
    "        #print(check_file_ts)\n",
    "        if check_file_ts[0]:\n",
    "            #print(f'check file ts: {check_file_ts[0]}; {check_file_ts[1]}')\n",
    "            select_file = each_fi\n",
    "            break\n",
    "        # if none match up by time, default to first in list (only if run before midnight and finish after)\n",
    "        overnight_run = True\n",
    "        select_file = files[0] \n",
    "else:\n",
    "    check_file_ts = compare_timestamp(\n",
    "        os.path.join(uvdata_file_directory, files[0]), xml_ts)\n",
    "    print(f'check file ts: {check_file_ts[0]}; {check_file_ts[1]}')\n",
    "    select_file = files[0]"
   ]
  },
  {
   "cell_type": "code",
   "execution_count": 179,
   "metadata": {},
   "outputs": [
    {
     "name": "stdout",
     "output_type": "stream",
     "text": [
      "xml ts: 2020-08-14 16:51:49 - uv ts: 2020-08-14 17:01:52\n",
      "(True, datetime.timedelta(days=-1, seconds=85797))\n"
     ]
    },
    {
     "name": "stdin",
     "output_type": "stream",
     "text": [
      " a\n"
     ]
    }
   ],
   "source": [
    "select_file = None\n",
    "if len(files) > 1:\n",
    "    for each_fi in files:\n",
    "        check_file_ts = compare_timestamp(\n",
    "            os.path.join(uvdata_file_directory, each_fi), xml_ts)\n",
    "        print(check_file_ts)\n",
    "        input()\n",
    "        if check_file_ts[0]:\n",
    "            #print(f'check file ts: {check_file_ts[0]}; {check_file_ts[1]}')\n",
    "            select_file = each_fi\n",
    "            break"
   ]
  },
  {
   "cell_type": "code",
   "execution_count": 19,
   "metadata": {},
   "outputs": [
    {
     "data": {
      "text/plain": [
       "'15TEST2020140814_M21535_5_(2)_2020-08-14_11-54-22-PM_at_12-17-57-AM.csv'"
      ]
     },
     "execution_count": 19,
     "metadata": {},
     "output_type": "execute_result"
    }
   ],
   "source": [
    "select_file"
   ]
  }
 ],
 "metadata": {
  "kernelspec": {
   "display_name": "Python 3",
   "language": "python",
   "name": "python3"
  },
  "language_info": {
   "codemirror_mode": {
    "name": "ipython",
    "version": 3
   },
   "file_extension": ".py",
   "mimetype": "text/x-python",
   "name": "python",
   "nbconvert_exporter": "python",
   "pygments_lexer": "ipython3",
   "version": "3.7.3"
  }
 },
 "nbformat": 4,
 "nbformat_minor": 4
}
