{
 "cells": [
  {
   "cell_type": "code",
   "execution_count": 1,
   "metadata": {},
   "outputs": [],
   "source": [
    "import sqlite3\n",
    "from sqlite3 import Error\n",
    "import pandas as pd\n",
    "import re\n",
    "import os\n",
    "from math import isnan\n",
    "from datetime import datetime\n",
    "from socket import gethostname\n",
    "import string\n",
    "from random import *\n",
    "import cx_Oracle\n",
    "\n",
    "host = os.environ['ORACLE_HOST']\n",
    "port = os.environ['ORACLE_PORT']\n",
    "servname = os.environ['ORACLE_SERVNAME']\n",
    "passwrd = os.environ['ORACLE_PASS']\n",
    "user = os.environ['ORACLE_USER']\n",
    "\n",
    "def create_connection(db_file):\n",
    "    \"\"\" create a database connection to a SQLite database \"\"\"\n",
    "    conn = None\n",
    "    try:\n",
    "        conn = sqlite3.connect(db_file)\n",
    "        print(sqlite3.version)\n",
    "    except Error as e:\n",
    "        print(e)\n",
    "    finally:\n",
    "        return conn"
   ]
  },
  {
   "cell_type": "code",
   "execution_count": 2,
   "metadata": {},
   "outputs": [],
   "source": [
    "dsn_tns = cx_Oracle.makedsn(host,port,service_name=servname)\n",
    "conn = cx_Oracle.connect(user,passwrd,dsn_tns)\n",
    "cr = conn.cursor()"
   ]
  },
  {
   "cell_type": "code",
   "execution_count": 16,
   "metadata": {},
   "outputs": [
    {
     "name": "stdout",
     "output_type": "stream",
     "text": [
      "2.6.0\n"
     ]
    }
   ],
   "source": [
    "con = create_connection(r\"gilsontsl.db\")"
   ]
  },
  {
   "cell_type": "code",
   "execution_count": 74,
   "metadata": {},
   "outputs": [
    {
     "name": "stdout",
     "output_type": "stream",
     "text": [
      "2.6.0\n"
     ]
    }
   ],
   "source": [
    "con_gilson = create_connection(r\"/Volumes/npsg/tecan/SourceData/SecondStage/Scripts/gilsontsl.db\")"
   ]
  },
  {
   "cell_type": "code",
   "execution_count": 27,
   "metadata": {},
   "outputs": [],
   "source": [
    "con.close()"
   ]
  },
  {
   "cell_type": "code",
   "execution_count": 10,
   "metadata": {},
   "outputs": [
    {
     "name": "stdout",
     "output_type": "stream",
     "text": [
      "                     RUN_DATE          ID  SAMPLE_NUMBER SAMPLE_NAME  \\\n",
      "0  2020-04-06 16:47:32.317022  1520030001              0    M21535_5   \n",
      "1  2020-04-06 16:47:32.343616  1520030001              1    M21551_5   \n",
      "2  2020-04-06 16:47:32.344137  1520030001              2    M21523_5   \n",
      "3  2020-04-06 16:47:32.345212  1520030001              3    M24173_2   \n",
      "4  2020-04-06 16:47:32.346140  1520030001              4    M23131_6   \n",
      "\n",
      "  TUBE_BARCODE BROOKS_BARCODE  \n",
      "0   FB02646205            127  \n",
      "1   FB02646225            127  \n",
      "2   FB02646185            127  \n",
      "3   FB03658814            127  \n",
      "4   FB02699823            127  \n"
     ]
    }
   ],
   "source": [
    "TABLE_NAME = 'GILSON_SET_TABLE'\n",
    "\n",
    "df = pd.read_sql_query(f\"SELECT * from {TABLE_NAME}\", con)\n",
    "\n",
    "# Verify that result of SQL query is stored in the dataframe\n",
    "print(df.head())"
   ]
  },
  {
   "cell_type": "code",
   "execution_count": 12,
   "metadata": {},
   "outputs": [
    {
     "data": {
      "text/html": [
       "<div>\n",
       "<style scoped>\n",
       "    .dataframe tbody tr th:only-of-type {\n",
       "        vertical-align: middle;\n",
       "    }\n",
       "\n",
       "    .dataframe tbody tr th {\n",
       "        vertical-align: top;\n",
       "    }\n",
       "\n",
       "    .dataframe thead th {\n",
       "        text-align: right;\n",
       "    }\n",
       "</style>\n",
       "<table border=\"1\" class=\"dataframe\">\n",
       "  <thead>\n",
       "    <tr style=\"text-align: right;\">\n",
       "      <th></th>\n",
       "      <th>ID</th>\n",
       "    </tr>\n",
       "  </thead>\n",
       "  <tbody>\n",
       "    <tr>\n",
       "      <th>0</th>\n",
       "      <td>1520030001</td>\n",
       "    </tr>\n",
       "    <tr>\n",
       "      <th>1</th>\n",
       "      <td>1520030002</td>\n",
       "    </tr>\n",
       "    <tr>\n",
       "      <th>2</th>\n",
       "      <td>1520030003</td>\n",
       "    </tr>\n",
       "  </tbody>\n",
       "</table>\n",
       "</div>"
      ],
      "text/plain": [
       "           ID\n",
       "0  1520030001\n",
       "1  1520030002\n",
       "2  1520030003"
      ]
     },
     "execution_count": 12,
     "metadata": {},
     "output_type": "execute_result"
    }
   ],
   "source": [
    "pd.read_sql_query('SELECT DISTINCT ID FROM GILSON_SET_TABLE', con)"
   ]
  },
  {
   "cell_type": "code",
   "execution_count": 4,
   "metadata": {},
   "outputs": [
    {
     "data": {
      "text/html": [
       "<div>\n",
       "<style scoped>\n",
       "    .dataframe tbody tr th:only-of-type {\n",
       "        vertical-align: middle;\n",
       "    }\n",
       "\n",
       "    .dataframe tbody tr th {\n",
       "        vertical-align: top;\n",
       "    }\n",
       "\n",
       "    .dataframe thead th {\n",
       "        text-align: right;\n",
       "    }\n",
       "</style>\n",
       "<table border=\"1\" class=\"dataframe\">\n",
       "  <thead>\n",
       "    <tr style=\"text-align: right;\">\n",
       "      <th></th>\n",
       "      <th>SkipPause[True,18,0]</th>\n",
       "      <th>MethodName[True,239,1]</th>\n",
       "      <th>SampleName[True,108,2]</th>\n",
       "      <th>SampleAmount[False,78,3]</th>\n",
       "      <th>SampleDescription[False,120,4]</th>\n",
       "      <th>SampleId[False,90,5]</th>\n",
       "      <th>InjectionYesNo[False,72,6]</th>\n",
       "      <th>PeakInformation[False,104,7]</th>\n",
       "      <th>SampleInjection[False,138,8]</th>\n",
       "      <th>NOTES_STRING[False,68,9]</th>\n",
       "      <th>#Sample Well[True,109,10]</th>\n",
       "      <th>#Plate_Sample[True,115,13]</th>\n",
       "    </tr>\n",
       "  </thead>\n",
       "  <tbody>\n",
       "    <tr>\n",
       "      <th>0</th>\n",
       "      <td>RUN</td>\n",
       "      <td>4 ML STARTUP</td>\n",
       "      <td>Sample</td>\n",
       "      <td>0</td>\n",
       "      <td>NaN</td>\n",
       "      <td>NaN</td>\n",
       "      <td>YES</td>\n",
       "      <td>UNKNOWN</td>\n",
       "      <td>...</td>\n",
       "      <td>NaN</td>\n",
       "      <td>0</td>\n",
       "      <td>NaN</td>\n",
       "    </tr>\n",
       "    <tr>\n",
       "      <th>1</th>\n",
       "      <td>RUN</td>\n",
       "      <td>4ML_10mm_2ND STAGE_FLUSH</td>\n",
       "      <td>Flush</td>\n",
       "      <td>0</td>\n",
       "      <td>NaN</td>\n",
       "      <td>NaN</td>\n",
       "      <td>YES</td>\n",
       "      <td>UNKNOWN</td>\n",
       "      <td>...</td>\n",
       "      <td>NaN</td>\n",
       "      <td>0</td>\n",
       "      <td>NaN</td>\n",
       "    </tr>\n",
       "    <tr>\n",
       "      <th>2</th>\n",
       "      <td>RUN</td>\n",
       "      <td>4ML_10mm_2ND STAGE_STD</td>\n",
       "      <td>6-Cmpd Std</td>\n",
       "      <td>0</td>\n",
       "      <td>NaN</td>\n",
       "      <td>NaN</td>\n",
       "      <td>YES</td>\n",
       "      <td>UNKNOWN</td>\n",
       "      <td>...</td>\n",
       "      <td>NaN</td>\n",
       "      <td>0</td>\n",
       "      <td>NaN</td>\n",
       "    </tr>\n",
       "    <tr>\n",
       "      <th>3</th>\n",
       "      <td>RUN</td>\n",
       "      <td>4ML_10mm_2ND STAGE</td>\n",
       "      <td>M21535_5</td>\n",
       "      <td>0</td>\n",
       "      <td>FB02646205</td>\n",
       "      <td>NaN</td>\n",
       "      <td>YES</td>\n",
       "      <td>UNKNOWN</td>\n",
       "      <td>...</td>\n",
       "      <td>127.0</td>\n",
       "      <td>1</td>\n",
       "      <td>P01S01</td>\n",
       "    </tr>\n",
       "    <tr>\n",
       "      <th>4</th>\n",
       "      <td>RUN</td>\n",
       "      <td>4ML_10mm_2ND STAGE</td>\n",
       "      <td>M21551_5</td>\n",
       "      <td>0</td>\n",
       "      <td>FB02646225</td>\n",
       "      <td>NaN</td>\n",
       "      <td>YES</td>\n",
       "      <td>UNKNOWN</td>\n",
       "      <td>...</td>\n",
       "      <td>127.0</td>\n",
       "      <td>2</td>\n",
       "      <td>P01S02</td>\n",
       "    </tr>\n",
       "  </tbody>\n",
       "</table>\n",
       "</div>"
      ],
      "text/plain": [
       "  SkipPause[True,18,0]    MethodName[True,239,1] SampleName[True,108,2]  \\\n",
       "0                  RUN              4 ML STARTUP                 Sample   \n",
       "1                  RUN  4ML_10mm_2ND STAGE_FLUSH                  Flush   \n",
       "2                  RUN    4ML_10mm_2ND STAGE_STD             6-Cmpd Std   \n",
       "3                  RUN        4ML_10mm_2ND STAGE               M21535_5   \n",
       "4                  RUN        4ML_10mm_2ND STAGE               M21551_5   \n",
       "\n",
       "   SampleAmount[False,78,3] SampleDescription[False,120,4]  \\\n",
       "0                         0                            NaN   \n",
       "1                         0                            NaN   \n",
       "2                         0                            NaN   \n",
       "3                         0                     FB02646205   \n",
       "4                         0                     FB02646225   \n",
       "\n",
       "   SampleId[False,90,5] InjectionYesNo[False,72,6]  \\\n",
       "0                   NaN                        YES   \n",
       "1                   NaN                        YES   \n",
       "2                   NaN                        YES   \n",
       "3                   NaN                        YES   \n",
       "4                   NaN                        YES   \n",
       "\n",
       "  PeakInformation[False,104,7] SampleInjection[False,138,8]  \\\n",
       "0                      UNKNOWN                          ...   \n",
       "1                      UNKNOWN                          ...   \n",
       "2                      UNKNOWN                          ...   \n",
       "3                      UNKNOWN                          ...   \n",
       "4                      UNKNOWN                          ...   \n",
       "\n",
       "   NOTES_STRING[False,68,9]  #Sample Well[True,109,10]  \\\n",
       "0                       NaN                          0   \n",
       "1                       NaN                          0   \n",
       "2                       NaN                          0   \n",
       "3                     127.0                          1   \n",
       "4                     127.0                          2   \n",
       "\n",
       "  #Plate_Sample[True,115,13]  \n",
       "0                        NaN  \n",
       "1                        NaN  \n",
       "2                        NaN  \n",
       "3                     P01S01  \n",
       "4                     P01S02  "
      ]
     },
     "execution_count": 4,
     "metadata": {},
     "output_type": "execute_result"
    }
   ],
   "source": [
    "d_test = pd.read_csv('test_files/1520030001_secStg_127.tsl',sep='\\t')\n",
    "d_test.head()"
   ]
  },
  {
   "cell_type": "code",
   "execution_count": 5,
   "metadata": {},
   "outputs": [
    {
     "data": {
      "text/plain": [
       "['SkipPause',\n",
       " 'MethodName',\n",
       " 'SampleName',\n",
       " 'SampleAmount',\n",
       " 'SampleDescription',\n",
       " 'SampleId',\n",
       " 'InjectionYesNo',\n",
       " 'PeakInformation',\n",
       " 'SampleInjection',\n",
       " 'NOTES_STRING',\n",
       " '#Sample Well',\n",
       " '#Plate_Sample']"
      ]
     },
     "execution_count": 5,
     "metadata": {},
     "output_type": "execute_result"
    }
   ],
   "source": [
    "col_names = [re.search(r'^.+?(?=\\[)', c).group(0) for c in d_test.columns]\n",
    "col_names"
   ]
  },
  {
   "cell_type": "code",
   "execution_count": 7,
   "metadata": {},
   "outputs": [],
   "source": [
    "def convert_caps_underscore(string):\n",
    "    prefix_tup_int = [m.span(0) for m in re.finditer(r'^.+(?=[A-Z])', string)]\n",
    "    suffix_tup_int = [m.span(0) for m in re.finditer(r'[A-Z](?:[^A-Z]*$)', string)]\n",
    "    #print(prefix_tup_int, suffix_tup_int)\n",
    "    p_start = prefix_tup_int[0][0]\n",
    "    p_end = prefix_tup_int[0][1]\n",
    "    s_start = suffix_tup_int[0][0]\n",
    "    s_end = suffix_tup_int[0][1]\n",
    "    return f'{string[p_start:p_end].upper()}_{string[s_start:s_end].upper()}'"
   ]
  },
  {
   "cell_type": "code",
   "execution_count": 23,
   "metadata": {},
   "outputs": [],
   "source": [
    "sqlite_create_table_query = '''CREATE TABLE GILSON_TSL_TABLE (NUMBER TEXT NOT NULL,RUN_DATE TIMESTAMP,PROJECT_ID TEXT NOT NULL,PLATE_ID TEXT NOT NULL,'''"
   ]
  },
  {
   "cell_type": "code",
   "execution_count": 24,
   "metadata": {},
   "outputs": [],
   "source": [
    "comma = ','\n",
    "reformat_col_names = ['NUMBER', 'RUN_DATE', 'PROJECT_ID', 'PLATE_ID']\n",
    "for i,c in enumerate(col_names):\n",
    "    #if i == len(col_names) - 1:\n",
    "    #    comma = ''\n",
    "    if ord(c[0]) < 65:\n",
    "        c = c[1:]\n",
    "        if ' ' in c:\n",
    "            prefix, suffix = c.split(' ')\n",
    "            c = prefix[0].upper() + prefix[1:].lower() + suffix[0].upper() +suffix[1:].lower()\n",
    "    if '_' in c:\n",
    "        prefix, suffix = c.split('_')\n",
    "        c = prefix[0].upper() + prefix[1:].lower() + suffix[0].upper() +suffix[1:].lower()\n",
    "    new_c = convert_caps_underscore(c)\n",
    "    #if 'DESCRIPTION' in new_c:\n",
    "    #    text_type = 'PRIMARY KEY'\n",
    "    #else:\n",
    "    text_type = 'TEXT NOT NULL'\n",
    "    sqlite_create_table_query += f'{new_c} {text_type}{comma}'\n",
    "    reformat_col_names.append(new_c)\n",
    "    \n",
    "    \n",
    "sqlite_create_table_query += 'GILSON_NUM TEXT NOT NULL);'\n",
    "reformat_col_names.append('GILSON_NUM')"
   ]
  },
  {
   "cell_type": "code",
   "execution_count": 30,
   "metadata": {},
   "outputs": [
    {
     "data": {
      "text/plain": [
       "'CREATE TABLE GILSON_TSL_TABLE (NUMBER TEXT NOT NULL,RUN_DATE TIMESTAMP,PROJECT_ID TEXT NOT NULL,PLATE_ID TEXT NOT NULL,SKIP_PAUSE TEXT NOT NULL,METHOD_NAME TEXT NOT NULL,SAMPLE_NAME TEXT NOT NULL,SAMPLE_AMOUNT TEXT NOT NULL,SAMPLE_DESCRIPTION TEXT NOT NULL,SAMPLE_ID TEXT NOT NULL,INJECTIONYES_NO TEXT NOT NULL,PEAK_INFORMATION TEXT NOT NULL,SAMPLE_INJECTION TEXT NOT NULL,NOTES_STRING TEXT NOT NULL,SAMPLE_WELL TEXT NOT NULL,PLATE_SAMPLE TEXT NOT NULL,GILSON_NUM TEXT NOT NULL);'"
      ]
     },
     "execution_count": 30,
     "metadata": {},
     "output_type": "execute_result"
    }
   ],
   "source": [
    "sqlite_create_table_query"
   ]
  },
  {
   "cell_type": "code",
   "execution_count": 128,
   "metadata": {},
   "outputs": [
    {
     "data": {
      "text/plain": [
       "['NUMBER',\n",
       " 'RUN_DATE',\n",
       " 'PROJECT_ID',\n",
       " 'PLATE_ID',\n",
       " 'SKIP_PAUSE',\n",
       " 'METHOD_NAME',\n",
       " 'SAMPLE_NAME',\n",
       " 'SAMPLE_AMOUNT',\n",
       " 'SAMPLE_DESCRIPTION',\n",
       " 'SAMPLE_ID',\n",
       " 'INJECTIONYES_NO',\n",
       " 'PEAK_INFORMATION',\n",
       " 'SAMPLE_INJECTION',\n",
       " 'NOTES_STRING',\n",
       " 'SAMPLE_WELL',\n",
       " 'PLATE_SAMPLE',\n",
       " 'GILSON_NUM']"
      ]
     },
     "execution_count": 128,
     "metadata": {},
     "output_type": "execute_result"
    }
   ],
   "source": [
    "reformat_col_names"
   ]
  },
  {
   "cell_type": "code",
   "execution_count": 63,
   "metadata": {},
   "outputs": [
    {
     "data": {
      "text/plain": [
       "<sqlite3.Cursor at 0x111c78e30>"
      ]
     },
     "execution_count": 63,
     "metadata": {},
     "output_type": "execute_result"
    }
   ],
   "source": [
    "con_gilson.execute(sqlite_create_table_query)"
   ]
  },
  {
   "cell_type": "code",
   "execution_count": 53,
   "metadata": {},
   "outputs": [
    {
     "data": {
      "text/plain": [
       "<sqlite3.Cursor at 0x111c783b0>"
      ]
     },
     "execution_count": 53,
     "metadata": {},
     "output_type": "execute_result"
    }
   ],
   "source": [
    "sqlite_delete_table_query = '''DROP TABLE GILSON_TSL_TABLE;'''\n",
    "con_gilson.execute(sql_delete_query)"
   ]
  },
  {
   "cell_type": "code",
   "execution_count": 73,
   "metadata": {},
   "outputs": [],
   "source": [
    "con_gilson.commit()\n",
    "con_gilson.close()"
   ]
  },
  {
   "cell_type": "code",
   "execution_count": 34,
   "metadata": {},
   "outputs": [
    {
     "data": {
      "text/plain": [
       "<sqlite3.Cursor at 0x110e8c570>"
      ]
     },
     "execution_count": 34,
     "metadata": {},
     "output_type": "execute_result"
    }
   ],
   "source": [
    "con_gilson.execute(sqlite_delete_table_query)"
   ]
  },
  {
   "cell_type": "code",
   "execution_count": 71,
   "metadata": {},
   "outputs": [
    {
     "data": {
      "text/plain": [
       "<sqlite3.Cursor at 0x111c78650>"
      ]
     },
     "execution_count": 71,
     "metadata": {},
     "output_type": "execute_result"
    }
   ],
   "source": [
    "con_gilson.execute(\"DELETE FROM GILSON_TSL_TABLE where PROJECT_ID = 15200600\")"
   ]
  },
  {
   "cell_type": "code",
   "execution_count": 72,
   "metadata": {},
   "outputs": [
    {
     "data": {
      "text/html": [
       "<div>\n",
       "<style scoped>\n",
       "    .dataframe tbody tr th:only-of-type {\n",
       "        vertical-align: middle;\n",
       "    }\n",
       "\n",
       "    .dataframe tbody tr th {\n",
       "        vertical-align: top;\n",
       "    }\n",
       "\n",
       "    .dataframe thead th {\n",
       "        text-align: right;\n",
       "    }\n",
       "</style>\n",
       "<table border=\"1\" class=\"dataframe\">\n",
       "  <thead>\n",
       "    <tr style=\"text-align: right;\">\n",
       "      <th></th>\n",
       "      <th>NUMBER</th>\n",
       "      <th>RUN_DATE</th>\n",
       "      <th>PROJECT_ID</th>\n",
       "      <th>PLATE_ID</th>\n",
       "      <th>SKIP_PAUSE</th>\n",
       "      <th>METHOD_NAME</th>\n",
       "      <th>SAMPLE_NAME</th>\n",
       "      <th>SAMPLE_AMOUNT</th>\n",
       "      <th>SAMPLE_DESCRIPTION</th>\n",
       "      <th>SAMPLE_ID</th>\n",
       "      <th>INJECTIONYES_NO</th>\n",
       "      <th>PEAK_INFORMATION</th>\n",
       "      <th>SAMPLE_INJECTION</th>\n",
       "      <th>NOTES_STRING</th>\n",
       "      <th>SAMPLE_WELL</th>\n",
       "      <th>PLATE_SAMPLE</th>\n",
       "      <th>GILSON_NUM</th>\n",
       "    </tr>\n",
       "  </thead>\n",
       "  <tbody>\n",
       "  </tbody>\n",
       "</table>\n",
       "</div>"
      ],
      "text/plain": [
       "Empty DataFrame\n",
       "Columns: [NUMBER, RUN_DATE, PROJECT_ID, PLATE_ID, SKIP_PAUSE, METHOD_NAME, SAMPLE_NAME, SAMPLE_AMOUNT, SAMPLE_DESCRIPTION, SAMPLE_ID, INJECTIONYES_NO, PEAK_INFORMATION, SAMPLE_INJECTION, NOTES_STRING, SAMPLE_WELL, PLATE_SAMPLE, GILSON_NUM]\n",
       "Index: []"
      ]
     },
     "execution_count": 72,
     "metadata": {},
     "output_type": "execute_result"
    }
   ],
   "source": [
    "pd.read_sql_query(\"SELECT * from GILSON_TSL_TABLE where PROJECT_ID = 15200600\", con_gilson)"
   ]
  },
  {
   "cell_type": "code",
   "execution_count": 57,
   "metadata": {},
   "outputs": [
    {
     "data": {
      "text/plain": [
       "<sqlite3.Cursor at 0x111c78730>"
      ]
     },
     "execution_count": 57,
     "metadata": {},
     "output_type": "execute_result"
    }
   ],
   "source": [
    "sql_delete_query = \"\"\"DELETE from GILSON_TSL_TABLE\"\"\" \n",
    "con_gilson.execute(sql_delete_query)"
   ]
  },
  {
   "cell_type": "code",
   "execution_count": 75,
   "metadata": {},
   "outputs": [],
   "source": [
    "df = pd.read_sql_query('SELECT * FROM GILSON_TSL_TABLE', con_gilson)"
   ]
  },
  {
   "cell_type": "code",
   "execution_count": 76,
   "metadata": {},
   "outputs": [],
   "source": [
    "df.to_csv('test_files/export_db.csv')"
   ]
  },
  {
   "cell_type": "code",
   "execution_count": 47,
   "metadata": {},
   "outputs": [
    {
     "data": {
      "text/plain": [
       "['1520060002_secStg_15200600020.tsl',\n",
       " '1520030001_secStg_127.tsl',\n",
       " '1520030002_secStg_134.tsl',\n",
       " 'gilson_set_file_127.txt',\n",
       " 'gilson_set_file_134.txt',\n",
       " '1520030003_secStg_138.tsl',\n",
       " 'gilson_set_file_138.txt',\n",
       " 'Excel_gilson_script_test.xlsx',\n",
       " '1520060001_secStg_15200600010.tsl']"
      ]
     },
     "execution_count": 47,
     "metadata": {},
     "output_type": "execute_result"
    }
   ],
   "source": [
    "dir_fi = [fi for fi in os.listdir('test_files/')]\n",
    "dir_fi"
   ]
  },
  {
   "cell_type": "code",
   "execution_count": 9,
   "metadata": {},
   "outputs": [],
   "source": [
    "def grab_rows(fi_content_df):\n",
    "    row_idx=[]\n",
    "    for i in range(fi_content_df.shape[0]):\n",
    "        try:\n",
    "            if pd.isna(fi_content_df['#Plate_Sample[True,115,13]'][i]):\n",
    "                pass#print('nothing')\n",
    "            else:\n",
    "                row_idx.append(i)\n",
    "        except TypeError:\n",
    "            print(i)\n",
    "    return row_idx"
   ]
  },
  {
   "cell_type": "code",
   "execution_count": 8,
   "metadata": {},
   "outputs": [],
   "source": [
    "def blank_barcode():\n",
    "    characters = string.ascii_letters + string.punctuation  + string.digits\n",
    "    blank_bc =  \"BLANK_\" + ''.join(choice(characters) for x in range(randint(8, 16)))\n",
    "    return blank_bc "
   ]
  },
  {
   "cell_type": "code",
   "execution_count": 7,
   "metadata": {},
   "outputs": [],
   "source": [
    "def get_col_names_tbl(table_name, con):\n",
    "    cursor = con.execute(f'SELECT * FROM {table_name}')\n",
    "    names = list(map(lambda x: x[0], cursor.description))\n",
    "    return {'length':len(names),'names':[(i,n) for i,n in enumerate(names)]}"
   ]
  },
  {
   "cell_type": "code",
   "execution_count": 48,
   "metadata": {},
   "outputs": [],
   "source": [
    "def show_query(table_name, con):\n",
    "    res = con.execute(f\"SELECT * FROM {table_name}\")\n",
    "    for r in res:\n",
    "        print(r)"
   ]
  },
  {
   "cell_type": "code",
   "execution_count": 6,
   "metadata": {},
   "outputs": [],
   "source": [
    "def grab_colm_idx(col_name, con):\n",
    "    return [i for i,n in get_col_names_tbl(\"GILSON_TSL_TABLE\", con)['names'] if n == col_name][0]"
   ]
  },
  {
   "cell_type": "code",
   "execution_count": 207,
   "metadata": {},
   "outputs": [],
   "source": [
    "def split_string_input_file(input_file):\n",
    "    if '/' in input_file:\n",
    "        input_file = input_file.split('/')[-1]\n",
    "    return input_file\n",
    "\n",
    "def imbue_rows(dir_fi, con, commit=False, gil_num=[gethostname()]):\n",
    "    nbr = 0 \n",
    "    # check to see if the file path has '/'\n",
    "    tmp_dir_fi = split_string_input_file(dir_fi)\n",
    "    split_fi_name = tmp_dir_fi.split('_')\n",
    "    projectid = split_fi_name[0]\n",
    "    # read into pandas df and coerce datatypes to string\n",
    "    fi_content_df = pd.read_csv(dir_fi, sep='\\t',dtype={'NOTES_STRING[False,68,9]': str, \\\n",
    "                                                       'SampleId[False,90,5]' : str})\n",
    "    # ensure strings for each value\n",
    "    fi_content_df['SampleId[False,90,5]'] = fi_content_df['SampleId[False,90,5]'].apply(lambda x: 'NaN')\n",
    "    fi_content_df['SampleAmount[False,78,3]'] = fi_content_df['SampleAmount[False,78,3]'].apply(lambda x: f\"{str(x)}\")\n",
    "    fi_content_df['#Sample Well[True,109,10]'] = fi_content_df['#Sample Well[True,109,10]'].apply(lambda x: f\"{str(x)}\")\n",
    "    # split string and create new column\n",
    "    fi_content_df['plateid'] = fi_content_df['NOTES_STRING[False,68,9]'].str.split('/').str[1]\n",
    "    # drop the original column since we got the projecti from the file already\n",
    "    fi_content_df.drop('NOTES_STRING[False,68,9]', axis=1, inplace=True)\n",
    "    current_col_names = fi_content_df.columns.tolist()[:-1]\n",
    "    # remove plateid colm as separate list\n",
    "    plateid_list = [x for x in fi_content_df.plateid.tolist() if not pd.isna(x)]\n",
    "    # slice df to exlucde plateid\n",
    "    fi_content_df = fi_content_df[current_col_names]\n",
    "    \n",
    "    # get the valid row indices (non-flush/std/shutdown)\n",
    "    row_idx = grab_rows(fi_content_df)\n",
    "    len_rows = len(row_idx)\n",
    "    # get length of gilson table to import to\n",
    "    len_cols = get_col_names_tbl('GILSON_TSL_TABLE', con)['length']\n",
    "    # if not a full set, add blanks \n",
    "    if len_rows % 4 != 0:\n",
    "        len_rows = len_rows + (4-len_rows%4)\n",
    "    # the index nbr for the blank sample well\n",
    "    blank_sample_idx = grab_colm_idx('SAMPLE_WELL', con) \n",
    "    # add random blank barcode\n",
    "    blank_bc_idx = grab_colm_idx('SAMPLE_DESCRIPTION', con) \n",
    "    \n",
    "    for i in range(len_rows): \n",
    "        nbr += 1\n",
    "        row_data = [\"BLANK\"]*len_cols\n",
    "        row_data[blank_sample_idx] = nbr\n",
    "        row_data[2] = projectid\n",
    "        row_data[0] = nbr\n",
    "        row_data[-1] = gil_num[0]\n",
    "        row_data[blank_bc_idx] = blank_barcode()\n",
    "        try:\n",
    "            row_data =  list(map(lambda x: str(x), fi_content_df.iloc[row_idx[i]].values.tolist())) + gil_num \n",
    "            first_4_vals = [str(nbr), datetime.now().strftime(\"%Y-%b-%d %H:%M:%S\"), projectid, plateid_list[i]]\n",
    "            row_data = first_4_vals + row_data\n",
    "        except IndexError as e:\n",
    "            pass\n",
    "        if not commit:\n",
    "            print(row_data)\n",
    "\n",
    "        #print(all([type(x) == str for x in row_data]))\n",
    "        #print(tuple(row_data))\n",
    "        if commit:\n",
    "            try:\n",
    "                con.execute(\"INSERT INTO GILSON_TSL_TABLE VALUES (?,?,?,?,?,?,?,?,?,?,?,?,?,?,?,?)\", row_data)\n",
    "            except:\n",
    "                print(row_data)\n",
    "    if commit:\n",
    "        con.commit()\n",
    "\n",
    "    #return df_list"
   ]
  },
  {
   "cell_type": "code",
   "execution_count": 10,
   "metadata": {},
   "outputs": [],
   "source": [
    "def grab_rows(fi_content_df):\n",
    "    '''Grab the valid rows from the worklist file'''\n",
    "    row_idx=[]\n",
    "    for i in range(fi_content_df.shape[0]):\n",
    "        try:\n",
    "            if pd.isna(fi_content_df['#Plate_Sample[True,115,13]'][i]):\n",
    "                pass#print('nothing')\n",
    "            \n",
    "            else:\n",
    "                row_idx.append(i)\n",
    "        except TypeError:\n",
    "            print(i)\n",
    "    return row_idx\n",
    "    \n",
    "def blank_barcode():\n",
    "    '''Create blank barcodes to satisfy the database integrity'''\n",
    "    blank_bc =  \"BLANK_\" + ''.join(choice(characters) for x in range(randint(8, 16)))\n",
    "    return blank_bc \n",
    "\n",
    "\n",
    "def get_col_names_tbl(table_name, con):\n",
    "    '''get length of column names and content with indices; returns dictionary'''\n",
    "    cursor = con.execute(f'SELECT * FROM {table_name}')\n",
    "    names = list(map(lambda x: x[0], cursor.description))\n",
    "    return {'length':len(names),'names':[(i,n) for i,n in enumerate(names)]}\n",
    "    \n",
    "    \n",
    "def grab_colm_idx(col_name, con):\n",
    "    '''returns just the column index that matches the query name'''\n",
    "    return [i for i,n in get_col_names_tbl(\"GILSON_TSL_TABLE\", con)['names'] if n == col_name][0]\n",
    "    \n",
    "def split_string_input_file(input_file):\n",
    "    '''handles if contains filepath separator'''\n",
    "    if '/' in input_file:\n",
    "        input_file = input_file.split('/')[-1]\n",
    "    return input_file\n",
    "\n",
    "\n",
    "def imbue_rows(dir_fi, con, commit=False, gil_num=[gethostname()]):\n",
    "    '''print out each row after extracting data from raw worklist file and then repare for sql entry'''\n",
    "    nbr = 0 \n",
    "    # check to see if the file path has '/'\n",
    "    tmp_dir_fi = split_string_input_file(dir_fi)\n",
    "    split_fi_name = tmp_dir_fi.split('_')\n",
    "    projectid = split_fi_name[0]\n",
    "    # read into pandas df and coerce datatypes to string\n",
    "    fi_content_df = pd.read_csv(dir_fi, sep='\\t',dtype={'NOTES_STRING[False,68,9]': str, \\\n",
    "                                                       'SampleId[False,90,5]' : str})\n",
    "    # ensure strings for each value\n",
    "    fi_content_df['SampleId[False,90,5]'] = fi_content_df['SampleId[False,90,5]'].apply(lambda x: 'NaN')\n",
    "    fi_content_df['SampleAmount[False,78,3]'] = fi_content_df['SampleAmount[False,78,3]'].apply(lambda x: f\"{str(x)}\")\n",
    "    fi_content_df['#Sample Well[True,109,10]'] = fi_content_df['#Sample Well[True,109,10]'].apply(lambda x: f\"{str(x)}\")\n",
    "    # split string and create new column\n",
    "    fi_content_df['plateid'] = fi_content_df['NOTES_STRING[False,68,9]'].str.split('/').str[1]\n",
    "    # drop the original column since we got the projecti from the file already\n",
    "    fi_content_df.drop('NOTES_STRING[False,68,9]', axis=1, inplace=True)\n",
    "    current_col_names = fi_content_df.columns.tolist()[:-1]\n",
    "    # remove plateid colm as separate list\n",
    "    plateid_list = [x for x in fi_content_df.plateid.tolist() if not pd.isna(x)]\n",
    "    # slice df to exlucde plateid\n",
    "    fi_content_df = fi_content_df[current_col_names]\n",
    "    \n",
    "    # get the valid row indices (non-flush/std/shutdown)\n",
    "    row_idx = grab_rows(fi_content_df)\n",
    "    len_rows = len(row_idx)\n",
    "    # get length of gilson table to import to\n",
    "    len_cols = get_col_names_tbl('GILSON_TSL_TABLE', con)['length']\n",
    "    # if not a full set, add blanks \n",
    "    if len_rows % 4 != 0:\n",
    "        len_rows = len_rows + (4-len_rows%4)\n",
    "    # the index nbr for the blank sample well\n",
    "    blank_sample_idx = grab_colm_idx('SAMPLE_WELL', con) \n",
    "    # add random blank barcode\n",
    "    blank_bc_idx = grab_colm_idx('SAMPLE_DESCRIPTION', con) \n",
    "    \n",
    "    for i in range(len_rows): \n",
    "        nbr += 1\n",
    "        row_data = [\"BLANK\"]*len_cols\n",
    "        row_data[blank_sample_idx] = nbr\n",
    "        row_data[2] = projectid\n",
    "        row_data[0] = nbr\n",
    "        row_data[-1] = gil_num[0]\n",
    "        row_data[blank_bc_idx] = blank_barcode()\n",
    "        print(row_data)\n",
    "        try:\n",
    "            row_data =  list(map(lambda x: str(x), fi_content_df.iloc[row_idx[i]].values.tolist())) + gil_num \n",
    "            first_4_vals = [str(nbr), datetime.now().strftime(\"%Y-%b-%d %H:%M:%S\"), projectid, plateid_list[i]]\n",
    "            row_data = first_4_vals + row_data\n",
    "        except IndexError as e:\n",
    "             print('passing...')\n",
    "        print(row_data)"
   ]
  },
  {
   "cell_type": "code",
   "execution_count": 45,
   "metadata": {},
   "outputs": [],
   "source": [
    "characters = string.ascii_letters + string.punctuation  + string.digits"
   ]
  },
  {
   "cell_type": "code",
   "execution_count": 46,
   "metadata": {},
   "outputs": [
    {
     "name": "stdout",
     "output_type": "stream",
     "text": [
      "[1, 'BLANK', '1520060001', 'BLANK', 'BLANK', 'BLANK', 'BLANK', \"BLANK_IKA'P_T>!REY7iUl\", 'BLANK', 'BLANK', 'BLANK', 'BLANK', 'BLANK', 1, 'BLANK', 'FR-N-S081093']\n",
      "['1', '2020-Jun-26 17:52:21', '1520060001', ' 11', 'RUN', '4ML_10mm_2ND STAGE', 'L129525_6', '0', 'FB04587339', 'NaN', 'YES', 'UNKNOWN', '...', '1', 'P01S01', 'FR-N-S081093']\n",
      "[2, 'BLANK', '1520060001', 'BLANK', 'BLANK', 'BLANK', 'BLANK', 'BLANK_[#(xm1l\"pu*nAM%-', 'BLANK', 'BLANK', 'BLANK', 'BLANK', 'BLANK', 2, 'BLANK', 'FR-N-S081093']\n",
      "['2', '2020-Jun-26 17:52:21', '1520060001', ' 11', 'RUN', '4ML_10mm_2ND STAGE', 'L48809_5', '0', 'FB04251130', 'NaN', 'YES', 'UNKNOWN', '...', '2', 'P01S02', 'FR-N-S081093']\n",
      "[3, 'BLANK', '1520060001', 'BLANK', 'BLANK', 'BLANK', 'BLANK', \"BLANK_p+mi=/QjV'\\\\/nIC\", 'BLANK', 'BLANK', 'BLANK', 'BLANK', 'BLANK', 3, 'BLANK', 'FR-N-S081093']\n",
      "['3', '2020-Jun-26 17:52:21', '1520060001', ' 11', 'RUN', '4ML_10mm_2ND STAGE', 'L129575_6', '0', 'FB04716251', 'NaN', 'YES', 'UNKNOWN', '...', '3', 'P01S03', 'FR-N-S081093']\n",
      "[4, 'BLANK', '1520060001', 'BLANK', 'BLANK', 'BLANK', 'BLANK', 'BLANK_6`^n%X@(2', 'BLANK', 'BLANK', 'BLANK', 'BLANK', 'BLANK', 4, 'BLANK', 'FR-N-S081093']\n",
      "['4', '2020-Jun-26 17:52:21', '1520060001', ' 11', 'RUN', '4ML_10mm_2ND STAGE', 'L48781_7', '0', 'FB04250855', 'NaN', 'YES', 'UNKNOWN', '...', '4', 'P01S04', 'FR-N-S081093']\n",
      "[5, 'BLANK', '1520060001', 'BLANK', 'BLANK', 'BLANK', 'BLANK', \"BLANK_U73]EB*='\", 'BLANK', 'BLANK', 'BLANK', 'BLANK', 'BLANK', 5, 'BLANK', 'FR-N-S081093']\n",
      "['5', '2020-Jun-26 17:52:21', '1520060001', ' 12', 'RUN', '4ML_10mm_2ND STAGE', 'L99277_7', '0', 'FB04242223', 'NaN', 'YES', 'UNKNOWN', '...', '5', 'P02S01', 'FR-N-S081093']\n",
      "[6, 'BLANK', '1520060001', 'BLANK', 'BLANK', 'BLANK', 'BLANK', 'BLANK_O7!aT?<H', 'BLANK', 'BLANK', 'BLANK', 'BLANK', 'BLANK', 6, 'BLANK', 'FR-N-S081093']\n",
      "['6', '2020-Jun-26 17:52:21', '1520060001', ' 12', 'RUN', '4ML_10mm_2ND STAGE', 'L77355_6', '0', 'FB04363141', 'NaN', 'YES', 'UNKNOWN', '...', '6', 'P02S02', 'FR-N-S081093']\n",
      "[7, 'BLANK', '1520060001', 'BLANK', 'BLANK', 'BLANK', 'BLANK', 'BLANK_\\\\iw@Tewg`ieTq', 'BLANK', 'BLANK', 'BLANK', 'BLANK', 'BLANK', 7, 'BLANK', 'FR-N-S081093']\n",
      "['7', '2020-Jun-26 17:52:21', '1520060001', ' 12', 'RUN', '4ML_10mm_2ND STAGE', 'L22855_6', '0', 'FB04575204', 'NaN', 'YES', 'UNKNOWN', '...', '7', 'P02S03', 'FR-N-S081093']\n",
      "[8, 'BLANK', '1520060001', 'BLANK', 'BLANK', 'BLANK', 'BLANK', \"BLANK_X]'^OYUO0tL?a>(f\", 'BLANK', 'BLANK', 'BLANK', 'BLANK', 'BLANK', 8, 'BLANK', 'FR-N-S081093']\n",
      "['8', '2020-Jun-26 17:52:21', '1520060001', ' 12', 'RUN', '4ML_10mm_2ND STAGE', 'L77349_5', '0', 'FB04362984', 'NaN', 'YES', 'UNKNOWN', '...', '8', 'P02S04', 'FR-N-S081093']\n",
      "[9, 'BLANK', '1520060001', 'BLANK', 'BLANK', 'BLANK', 'BLANK', \"BLANK_3`sPq$DkB7'\", 'BLANK', 'BLANK', 'BLANK', 'BLANK', 'BLANK', 9, 'BLANK', 'FR-N-S081093']\n",
      "['9', '2020-Jun-26 17:52:21', '1520060001', ' 13', 'RUN', '4ML_10mm_2ND STAGE', 'L125181_7', '0', 'FB04613570', 'NaN', 'YES', 'UNKNOWN', '...', '9', 'P03S01', 'FR-N-S081093']\n",
      "[10, 'BLANK', '1520060001', 'BLANK', 'BLANK', 'BLANK', 'BLANK', 'BLANK_N@&pp&c3PP', 'BLANK', 'BLANK', 'BLANK', 'BLANK', 'BLANK', 10, 'BLANK', 'FR-N-S081093']\n",
      "['10', '2020-Jun-26 17:52:21', '1520060001', ' 13', 'RUN', '4ML_10mm_2ND STAGE', 'L92791_6', '0', 'FB03117035', 'NaN', 'YES', 'UNKNOWN', '...', '10', 'P03S02', 'FR-N-S081093']\n",
      "[11, 'BLANK', '1520060001', 'BLANK', 'BLANK', 'BLANK', 'BLANK', 'BLANK_x5Fd(_|J{', 'BLANK', 'BLANK', 'BLANK', 'BLANK', 'BLANK', 11, 'BLANK', 'FR-N-S081093']\n",
      "['11', '2020-Jun-26 17:52:21', '1520060001', ' 13', 'RUN', '4ML_10mm_2ND STAGE', 'L91999_6', '0', 'FB04586497', 'NaN', 'YES', 'UNKNOWN', '...', '11', 'P03S03', 'FR-N-S081093']\n",
      "[12, 'BLANK', '1520060001', 'BLANK', 'BLANK', 'BLANK', 'BLANK', 'BLANK_hF\"},\\'`:G_Dh]Zn^', 'BLANK', 'BLANK', 'BLANK', 'BLANK', 'BLANK', 12, 'BLANK', 'FR-N-S081093']\n",
      "['12', '2020-Jun-26 17:52:21', '1520060001', ' 13', 'RUN', '4ML_10mm_2ND STAGE', 'L96911_7', '0', 'FB04190034', 'NaN', 'YES', 'UNKNOWN', '...', '12', 'P03S04', 'FR-N-S081093']\n",
      "[13, 'BLANK', '1520060001', 'BLANK', 'BLANK', 'BLANK', 'BLANK', \"BLANK_oyQ>}CeO7'su\", 'BLANK', 'BLANK', 'BLANK', 'BLANK', 'BLANK', 13, 'BLANK', 'FR-N-S081093']\n",
      "['13', '2020-Jun-26 17:52:21', '1520060001', ' 14', 'RUN', '4ML_10mm_2ND STAGE', 'L37265_6', '0', 'FB04078293', 'NaN', 'YES', 'UNKNOWN', '...', '13', 'P04S01', 'FR-N-S081093']\n",
      "[14, 'BLANK', '1520060001', 'BLANK', 'BLANK', 'BLANK', 'BLANK', 'BLANK_Mx:(PlLej', 'BLANK', 'BLANK', 'BLANK', 'BLANK', 'BLANK', 14, 'BLANK', 'FR-N-S081093']\n",
      "['14', '2020-Jun-26 17:52:21', '1520060001', ' 14', 'RUN', '4ML_10mm_2ND STAGE', 'L106115_6', '0', 'FB04595524', 'NaN', 'YES', 'UNKNOWN', '...', '14', 'P04S02', 'FR-N-S081093']\n",
      "[15, 'BLANK', '1520060001', 'BLANK', 'BLANK', 'BLANK', 'BLANK', 'BLANK_sioA~ewpz/-H|rWo', 'BLANK', 'BLANK', 'BLANK', 'BLANK', 'BLANK', 15, 'BLANK', 'FR-N-S081093']\n",
      "passing...\n",
      "[15, 'BLANK', '1520060001', 'BLANK', 'BLANK', 'BLANK', 'BLANK', 'BLANK_sioA~ewpz/-H|rWo', 'BLANK', 'BLANK', 'BLANK', 'BLANK', 'BLANK', 15, 'BLANK', 'FR-N-S081093']\n",
      "[16, 'BLANK', '1520060001', 'BLANK', 'BLANK', 'BLANK', 'BLANK', \"BLANK_'[>89LjC~\\\\>3R\", 'BLANK', 'BLANK', 'BLANK', 'BLANK', 'BLANK', 16, 'BLANK', 'FR-N-S081093']\n",
      "passing...\n",
      "[16, 'BLANK', '1520060001', 'BLANK', 'BLANK', 'BLANK', 'BLANK', \"BLANK_'[>89LjC~\\\\>3R\", 'BLANK', 'BLANK', 'BLANK', 'BLANK', 'BLANK', 16, 'BLANK', 'FR-N-S081093']\n"
     ]
    }
   ],
   "source": [
    "imbue_rows(f'test_files/1520060001_secStg_15200600010_edit.tsl', con)"
   ]
  },
  {
   "cell_type": "code",
   "execution_count": 4,
   "metadata": {},
   "outputs": [],
   "source": [
    "ORACLE_COLM_NAMES = ['SEQ_NUM',\n",
    "                    'FINISH_DATE',\n",
    "                    'PROJECT_ID',\n",
    "                    'METHOD_NAME',\n",
    "                    'SAMPLE_NAME',\n",
    "                    'BARCODE',\n",
    "                    'PLATE_ID',\n",
    "                    'BROOKS_BARCODE',\n",
    "                    'SAMPLE_WELL',\n",
    "                    'PLATE_POSITION',\n",
    "                    'GILSON_NUMBER']"
   ]
  },
  {
   "cell_type": "code",
   "execution_count": 129,
   "metadata": {},
   "outputs": [
    {
     "data": {
      "text/html": [
       "<div>\n",
       "<style scoped>\n",
       "    .dataframe tbody tr th:only-of-type {\n",
       "        vertical-align: middle;\n",
       "    }\n",
       "\n",
       "    .dataframe tbody tr th {\n",
       "        vertical-align: top;\n",
       "    }\n",
       "\n",
       "    .dataframe thead th {\n",
       "        text-align: right;\n",
       "    }\n",
       "</style>\n",
       "<table border=\"1\" class=\"dataframe\">\n",
       "  <thead>\n",
       "    <tr style=\"text-align: right;\">\n",
       "      <th></th>\n",
       "      <th>SkipPause[True,18,0]</th>\n",
       "      <th>MethodName[True,239,1]</th>\n",
       "      <th>SampleName[True,108,2]</th>\n",
       "      <th>SampleAmount[False,78,3]</th>\n",
       "      <th>SampleDescription[False,120,4]</th>\n",
       "      <th>SampleId[False,90,5]</th>\n",
       "      <th>InjectionYesNo[False,72,6]</th>\n",
       "      <th>PeakInformation[False,104,7]</th>\n",
       "      <th>SampleInjection[False,138,8]</th>\n",
       "      <th>NOTES_STRING[False,68,9]</th>\n",
       "      <th>#Sample Well[True,109,10]</th>\n",
       "      <th>#Plate_Sample[True,115,13]</th>\n",
       "    </tr>\n",
       "  </thead>\n",
       "  <tbody>\n",
       "    <tr>\n",
       "      <th>0</th>\n",
       "      <td>RUN</td>\n",
       "      <td>4 ML STARTUP</td>\n",
       "      <td>Sample</td>\n",
       "      <td>0</td>\n",
       "      <td>NaN</td>\n",
       "      <td>NaN</td>\n",
       "      <td>YES</td>\n",
       "      <td>UNKNOWN</td>\n",
       "      <td>...</td>\n",
       "      <td>NaN</td>\n",
       "      <td>0</td>\n",
       "      <td>NaN</td>\n",
       "    </tr>\n",
       "    <tr>\n",
       "      <th>1</th>\n",
       "      <td>RUN</td>\n",
       "      <td>4ML_10mm_2ND STAGE_FLUSH</td>\n",
       "      <td>Flush</td>\n",
       "      <td>0</td>\n",
       "      <td>NaN</td>\n",
       "      <td>NaN</td>\n",
       "      <td>YES</td>\n",
       "      <td>UNKNOWN</td>\n",
       "      <td>...</td>\n",
       "      <td>NaN</td>\n",
       "      <td>0</td>\n",
       "      <td>NaN</td>\n",
       "    </tr>\n",
       "    <tr>\n",
       "      <th>2</th>\n",
       "      <td>RUN</td>\n",
       "      <td>4ML_10mm_2ND STAGE_STD</td>\n",
       "      <td>6-Cmpd Std</td>\n",
       "      <td>0</td>\n",
       "      <td>NaN</td>\n",
       "      <td>NaN</td>\n",
       "      <td>YES</td>\n",
       "      <td>UNKNOWN</td>\n",
       "      <td>...</td>\n",
       "      <td>NaN</td>\n",
       "      <td>0</td>\n",
       "      <td>NaN</td>\n",
       "    </tr>\n",
       "    <tr>\n",
       "      <th>3</th>\n",
       "      <td>RUN</td>\n",
       "      <td>4ML_10mm_2ND STAGE</td>\n",
       "      <td>M21535_5</td>\n",
       "      <td>0</td>\n",
       "      <td>FB02646205</td>\n",
       "      <td>NaN</td>\n",
       "      <td>YES</td>\n",
       "      <td>UNKNOWN</td>\n",
       "      <td>...</td>\n",
       "      <td>127</td>\n",
       "      <td>1</td>\n",
       "      <td>P01S01</td>\n",
       "    </tr>\n",
       "    <tr>\n",
       "      <th>4</th>\n",
       "      <td>RUN</td>\n",
       "      <td>4ML_10mm_2ND STAGE</td>\n",
       "      <td>M21551_5</td>\n",
       "      <td>0</td>\n",
       "      <td>FB02646225</td>\n",
       "      <td>NaN</td>\n",
       "      <td>YES</td>\n",
       "      <td>UNKNOWN</td>\n",
       "      <td>...</td>\n",
       "      <td>127</td>\n",
       "      <td>2</td>\n",
       "      <td>P01S02</td>\n",
       "    </tr>\n",
       "  </tbody>\n",
       "</table>\n",
       "</div>"
      ],
      "text/plain": [
       "  SkipPause[True,18,0]    MethodName[True,239,1] SampleName[True,108,2]  \\\n",
       "0                  RUN              4 ML STARTUP                 Sample   \n",
       "1                  RUN  4ML_10mm_2ND STAGE_FLUSH                  Flush   \n",
       "2                  RUN    4ML_10mm_2ND STAGE_STD             6-Cmpd Std   \n",
       "3                  RUN        4ML_10mm_2ND STAGE               M21535_5   \n",
       "4                  RUN        4ML_10mm_2ND STAGE               M21551_5   \n",
       "\n",
       "   SampleAmount[False,78,3] SampleDescription[False,120,4]  \\\n",
       "0                         0                            NaN   \n",
       "1                         0                            NaN   \n",
       "2                         0                            NaN   \n",
       "3                         0                     FB02646205   \n",
       "4                         0                     FB02646225   \n",
       "\n",
       "  SampleId[False,90,5] InjectionYesNo[False,72,6]  \\\n",
       "0                  NaN                        YES   \n",
       "1                  NaN                        YES   \n",
       "2                  NaN                        YES   \n",
       "3                  NaN                        YES   \n",
       "4                  NaN                        YES   \n",
       "\n",
       "  PeakInformation[False,104,7] SampleInjection[False,138,8]  \\\n",
       "0                      UNKNOWN                          ...   \n",
       "1                      UNKNOWN                          ...   \n",
       "2                      UNKNOWN                          ...   \n",
       "3                      UNKNOWN                          ...   \n",
       "4                      UNKNOWN                          ...   \n",
       "\n",
       "  NOTES_STRING[False,68,9]  #Sample Well[True,109,10]  \\\n",
       "0                      NaN                          0   \n",
       "1                      NaN                          0   \n",
       "2                      NaN                          0   \n",
       "3                      127                          1   \n",
       "4                      127                          2   \n",
       "\n",
       "  #Plate_Sample[True,115,13]  \n",
       "0                        NaN  \n",
       "1                        NaN  \n",
       "2                        NaN  \n",
       "3                     P01S01  \n",
       "4                     P01S02  "
      ]
     },
     "execution_count": 129,
     "metadata": {},
     "output_type": "execute_result"
    }
   ],
   "source": [
    "\n",
    "df = pd.read_csv('test_files/1520030001_secStg_127.tsl', sep='\\t',dtype={'NOTES_STRING[False,68,9]': str, \\\n",
    "                                                       'SampleId[False,90,5]' : str})\n",
    "df.head()"
   ]
  },
  {
   "cell_type": "code",
   "execution_count": 128,
   "metadata": {},
   "outputs": [],
   "source": [
    "def imbue_rows(dir_fi, con, gil_num=[gethostname()]):\n",
    "    '''print out each row after extracting data from raw worklist file and then repare for sql entry'''\n",
    "    # check to see if the file path has '/'\n",
    "    tmp_dir_fi = split_string_input_file(dir_fi)\n",
    "    split_fi_name = tmp_dir_fi.split('_')\n",
    "    projectid = split_fi_name[0]\n",
    "    # read into pandas df and coerce datatypes to string\n",
    "    fi_content_df = pd.read_csv(dir_fi, sep='\\t',dtype={'NOTES_STRING[False,68,9]': str, \\\n",
    "                                                       'SampleId[False,90,5]' : str})\n",
    "    # ensure strings for each value\n",
    "    fi_content_df['SampleId[False,90,5]'] = fi_content_df['SampleId[False,90,5]'].apply(lambda x: 'NaN')\n",
    "    fi_content_df['SampleAmount[False,78,3]'] = fi_content_df['SampleAmount[False,78,3]'].apply(lambda x: f\"{str(x)}\")\n",
    "    fi_content_df['#Sample Well[True,109,10]'] = fi_content_df['#Sample Well[True,109,10]'].apply(lambda x: f\"{str(x)}\")\n",
    "    # split string and create new column\n",
    "    fi_content_df['plateid'] = fi_content_df['NOTES_STRING[False,68,9]'].apply(lambda x: x.split('/')[1].strip() if not pd.isna(x) else '0') \n",
    "    fi_content_df['brooks_barcode'] = fi_content_df['NOTES_STRING[False,68,9]'].apply(lambda x: x.split('/')[0].strip() if not pd.isna(x) else '0')\n",
    "    \n",
    "    # get the valid row indices (non-flush/std/shutdown)\n",
    "    row_idx = grab_rows(fi_content_df)\n",
    "    \n",
    "    current_time =  datetime.now().strftime(\"%Y-%b-%d %H:%M\")\n",
    "    \n",
    "    with con.cursor() as cursor:\n",
    "        for i in range(24): \n",
    "            row_data = [\"BLANK\"]*11\n",
    "            row_data[0] = i \n",
    "            row_data[1] = current_time \n",
    "            row_data[2] = projectid\n",
    "            row_data[9] = i \n",
    "            row_data[10] = gil_num[0]\n",
    "            try:\n",
    "                rdata_df =  fi_content_df.iloc[row_idx[i]]\n",
    "                row_data[3] = rdata_df['MethodName[True,239,1]']\n",
    "                row_data[4] = rdata_df['SampleName[True,108,2]']\n",
    "                row_data[5] = rdata_df['SampleDescription[False,120,4]']\n",
    "                row_data[6] = rdata_df['plateid']\n",
    "                row_data[7] = rdata_df['brooks_barcode']\n",
    "                row_data[8] = str(int(float(rdata_df['#Sample Well[True,109,10]'])))\n",
    "                row_data[9] = rdata_df['#Plate_Sample[True,115,13]']\n",
    "            except IndexError: \n",
    "                 print('passing as a blank ...')\n",
    "            #print(row_data)\n",
    "            cursor.execute(f\"\"\"insert into GILSON_RUN_LOGS values (:1, :2, :3, :4, :5, :6, :7, :8, :9, :10, :11)\"\"\", row_data)\n",
    "    con.commit()"
   ]
  },
  {
   "cell_type": "code",
   "execution_count": 126,
   "metadata": {},
   "outputs": [],
   "source": [
    "imbue_rows('/Volumes/npsg/tecan/SourceData/SecondStage/Sample List_Combined_tmp/15200600_01_02_15200600010_15200600020.tsl', conn)"
   ]
  }
 ],
 "metadata": {
  "kernelspec": {
   "display_name": "Python 3",
   "language": "python",
   "name": "python3"
  },
  "language_info": {
   "codemirror_mode": {
    "name": "ipython",
    "version": 3
   },
   "file_extension": ".py",
   "mimetype": "text/x-python",
   "name": "python",
   "nbconvert_exporter": "python",
   "pygments_lexer": "ipython3",
   "version": "3.7.3"
  }
 },
 "nbformat": 4,
 "nbformat_minor": 4
}
